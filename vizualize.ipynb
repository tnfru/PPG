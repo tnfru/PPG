{
 "cells": [
  {
   "cell_type": "code",
   "execution_count": 16,
   "id": "ba87a1bb",
   "metadata": {},
   "outputs": [],
   "source": [
    "import ale_py\n",
    "import gym\n",
    "import time\n",
    "import torch as T\n",
    "import torch.nn as nn\n",
    "import torch.nn.functional as F\n",
    "import matplotlib.pyplot as plt\n",
    "import kornia as K\n",
    "import numpy as np\n",
    "import einops\n",
    "from einops.layers.torch import Rearrange\n",
    "from supersuit import frame_stack_v1, resize_v0, clip_reward_v0\n",
    "import cv2\n",
    "\n",
    "\n",
    "import skimage.transform as st\n",
    "\n"
   ]
  },
  {
   "cell_type": "code",
   "execution_count": 2,
   "id": "759460cc",
   "metadata": {},
   "outputs": [
    {
     "name": "stdout",
     "output_type": "stream",
     "text": [
      "Apex Optimizers not installed, defaulting to PyTorch Optimizer\n"
     ]
    }
   ],
   "source": [
    "#from pretrain.environment import create_env\n",
    "from ppg.agent import Agent"
   ]
  },
  {
   "cell_type": "code",
   "execution_count": 3,
   "id": "dba6757f",
   "metadata": {},
   "outputs": [],
   "source": [
    "config = {'policy_clip': 0.25,\n",
    "          'kl_max': None,  # 0.05 used previously\n",
    "          'kl_max_aux': None,  # stability in pretrain 0.01\n",
    "          'clip_reward': True,\n",
    "          'beta': 1,\n",
    "          'val_coeff': 1e-2,\n",
    "          'train_iterations': 1,\n",
    "          'entropy_coeff': 0.01,\n",
    "          'entropy_min': 0.01,\n",
    "          'entropy_decay': 0.9999,\n",
    "          'grad_norm': 10,\n",
    "          'grad_norm_ppg': 0.5,\n",
    "          'critic_lr': 1e-3,\n",
    "          'actor_lr': 3e-4,  # Paper val 1e-4 while pre-Training\n",
    "          'aux_freq': 32,\n",
    "          'aux_iterations': 3,\n",
    "          'gae_lambda': 0.95,\n",
    "          'batch_size': 32,  # 512 while pretraining, 32 after\n",
    "          'target_batch_size': 32,\n",
    "          'use_wandb': False,\n",
    "          'discount_factor': 0.99,\n",
    "          'height': 84,\n",
    "          'width': 84,\n",
    "          'action_dim': 18,\n",
    "          'contrast_lr': 1e-3,\n",
    "          'temperature': 0.1,\n",
    "          'frames_to_skip': 4,\n",
    "          'stacked_frames': 4,\n",
    "          'is_pretrain': False,\n",
    "          'steps_before_repr_learning': 1600,  # Paper value\n",
    "          'replay_buffer_size': 10000,\n",
    "          'rollout_length': 700,\n",
    "          'num_envs': 16,  # Parallel Envs\n",
    "          'prefix': 'ATARI_VIZ'\n",
    "          }"
   ]
  },
  {
   "cell_type": "code",
   "execution_count": 4,
   "id": "fd89fcb8",
   "metadata": {},
   "outputs": [],
   "source": [
    "FRAMES_TO_STACK = 4\n",
    "FRAMES_TO_SKIP = 4\n",
    "PAD_SIZE = 4\n",
    "\n",
    "X_DIM = 84\n",
    "Y_DIM = 84\n",
    "\n",
    "rng = np.random.default_rng()"
   ]
  },
  {
   "cell_type": "code",
   "execution_count": 5,
   "id": "289e37df",
   "metadata": {},
   "outputs": [],
   "source": [
    "def preprocess(img):\n",
    "    img = T.from_numpy(img) / 255\n",
    "    \n",
    "    if len(img.shape) == 3: # if no fourth dim, batch size is missing\n",
    "        img = einops.rearrange(img, 'h w c -> 1 c h w')\n",
    "        \n",
    "    else:\n",
    "        img = einops.rearrange(img, 'b h w c -> b c h w')\n",
    "    return img"
   ]
  },
  {
   "cell_type": "code",
   "execution_count": 6,
   "id": "3ad0c8cf",
   "metadata": {},
   "outputs": [],
   "source": [
    "def plot_state(state, big=False):\n",
    "    fig = plt.figure(figsize=(36,18))\n",
    "    if big:\n",
    "        plt.imshow(state[0][0], cmap='gray');\n",
    "        return\n",
    "    \n",
    "    for i in range(state.shape[1]):\n",
    "        fig.add_subplot(1, FRAMES_TO_STACK, i + 1)\n",
    "        plt.imshow(state[0][i], cmap='gray');"
   ]
  },
  {
   "cell_type": "code",
   "execution_count": 23,
   "id": "521e7047",
   "metadata": {
    "scrolled": true
   },
   "outputs": [],
   "source": [
    "def create_env(name='MsPacman', render=None):\n",
    "    env = gym.make('ALE/' + name + '-v5',\n",
    "                    obs_type='grayscale',             # ram | rgb | grayscale\n",
    "                    frameskip=FRAMES_TO_SKIP,         # frame skip\n",
    "                    mode=0,                           # game mode, see Machado et al. 2018\n",
    "                    difficulty=0,                     # game difficulty, see Machado et al. 2018\n",
    "                    repeat_action_probability=0.25,   # Sticky action probability\n",
    "                    full_action_space=True,           # Use all actions\n",
    "                    render_mode=render                # None | human | rgb_array\n",
    "    )\n",
    "\n",
    "    #env = clip_reward_v0(env, lower_bound=-1, upper_bound=1)\n",
    "    env = resize_v0(env, X_DIM, Y_DIM, linear_interp=True)\n",
    "    env = frame_stack_v1(env, 4)\n",
    "    \n",
    "    return env"
   ]
  },
  {
   "cell_type": "code",
   "execution_count": 24,
   "id": "4e58a4ab",
   "metadata": {},
   "outputs": [],
   "source": [
    "env = create_env()\n",
    "agent = Agent(env, config, load=False)"
   ]
  },
  {
   "cell_type": "code",
   "execution_count": 25,
   "id": "5d239549",
   "metadata": {},
   "outputs": [
    {
     "data": {
      "text/plain": [
       "<All keys matched successfully>"
      ]
     },
     "execution_count": 25,
     "metadata": {},
     "output_type": "execute_result"
    }
   ],
   "source": [
    "PATH = agent.path + '/agent_latest.pt'\n",
    "device = T.device('cpu')\n",
    "agent.load_state_dict(T.load(PATH, map_location=device))"
   ]
  },
  {
   "cell_type": "code",
   "execution_count": 34,
   "id": "9041e5e4",
   "metadata": {},
   "outputs": [],
   "source": [
    "def run_episode(env, agent):\n",
    "\n",
    "    \n",
    "    i = 0\n",
    "    rewards = []\n",
    "    \n",
    "    \n",
    "    while np.sum(rewards) < 2500:\n",
    "        done = False\n",
    "        s = env.reset()\n",
    "        s = preprocess(s)\n",
    "        rewards = []\n",
    "        states = []\n",
    "        while not done:\n",
    "            action = agent.get_action(s)[0]\n",
    "            s, r, done, _ = env.step(action)\n",
    "\n",
    "            rewards.append(r)\n",
    "            s = preprocess(s)\n",
    "            states.append(s[0][0])\n",
    "\n",
    "        print(i)\n",
    "        i = i + 1\n",
    "    \n",
    "    env.close()\n",
    "    return states"
   ]
  },
  {
   "cell_type": "code",
   "execution_count": 37,
   "id": "1d47374d",
   "metadata": {},
   "outputs": [],
   "source": [
    "states = run_episode(env, agent)"
   ]
  },
  {
   "cell_type": "code",
   "execution_count": 30,
   "id": "9ea52771",
   "metadata": {},
   "outputs": [],
   "source": [
    "def states_to_vid(states):\n",
    "    # expects states to be a list of array that have shape (h, w)\n",
    "    video = np.stack(states)\n",
    "    video = einops.rearrange(video, 'b h w -> b h w 1') * 255\n",
    "\n",
    "    num_frames, height, width, _ = video.shape\n",
    "\n",
    "    video = np.uint8(video)\n",
    "\n",
    "    filename = \"./test_vid.mp4\"\n",
    "    codec_id = \"mp4v\"\n",
    "    fourcc = cv2.VideoWriter_fourcc('m', 'p', '4', 'v')\n",
    "    fps = 15\n",
    "    out = cv2.VideoWriter(filename, fourcc, float(fps), (width, height), 0)\n",
    "\n",
    "\n",
    "    for frame in np.split(video, num_frames, axis=0):\n",
    "        out.write(frame[0])\n",
    "\n",
    "    out.release()"
   ]
  },
  {
   "cell_type": "code",
   "execution_count": 31,
   "id": "c23421fd",
   "metadata": {},
   "outputs": [],
   "source": [
    "states_to_vid(states)"
   ]
  },
  {
   "cell_type": "code",
   "execution_count": null,
   "id": "53df3d7a",
   "metadata": {},
   "outputs": [],
   "source": []
  }
 ],
 "metadata": {
  "kernelspec": {
   "display_name": "Python 3 (ipykernel)",
   "language": "python",
   "name": "python3"
  },
  "language_info": {
   "codemirror_mode": {
    "name": "ipython",
    "version": 3
   },
   "file_extension": ".py",
   "mimetype": "text/x-python",
   "name": "python",
   "nbconvert_exporter": "python",
   "pygments_lexer": "ipython3",
   "version": "3.8.8"
  }
 },
 "nbformat": 4,
 "nbformat_minor": 5
}
