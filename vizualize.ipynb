{
 "cells": [
  {
   "cell_type": "code",
   "execution_count": 1,
   "id": "ba87a1bb",
   "metadata": {},
   "outputs": [
    {
     "name": "stderr",
     "output_type": "stream",
     "text": [
      "\n"
     ]
    }
   ],
   "source": [
    "import ale_py\n",
    "import gym\n",
    "import time\n",
    "import torch as T\n",
    "import torch.nn as nn\n",
    "import torch.nn.functional as F\n",
    "import matplotlib.pyplot as plt\n",
    "import kornia as K\n",
    "import numpy as np\n",
    "import einops\n",
    "from einops.layers.torch import Rearrange\n",
    "from supersuit import frame_stack_v1, resize_v0, clip_reward_v0\n",
    "import cv2"
   ]
  },
  {
   "cell_type": "code",
   "execution_count": 2,
   "id": "fd89fcb8",
   "metadata": {},
   "outputs": [],
   "source": [
    "FRAMES_TO_STACK = 4\n",
    "FRAMES_TO_SKIP = 4\n",
    "PAD_SIZE = 4\n",
    "\n",
    "# TODO Add seed\n",
    "# TODO Terminal on loss of life\n",
    "# TODO compare Adam with LARS optimizer\n",
    "\n",
    "X_DIM = 84\n",
    "Y_DIM = 84\n",
    "\n",
    "rng = np.random.default_rng()"
   ]
  },
  {
   "cell_type": "code",
   "execution_count": 3,
   "id": "289e37df",
   "metadata": {},
   "outputs": [],
   "source": [
    "def preprocess(img):\n",
    "    img = T.from_numpy(img) / 255\n",
    "    \n",
    "    if len(img.shape) == 3: # if no fourth dim, batch size is missing\n",
    "        img = einops.rearrange(img, 'h w c -> c h w')\n",
    "        \n",
    "    else:\n",
    "        img = einops.rearrange(img, 'b h w c -> b c h w')\n",
    "    return img"
   ]
  },
  {
   "cell_type": "code",
   "execution_count": 4,
   "id": "3ad0c8cf",
   "metadata": {},
   "outputs": [],
   "source": [
    "def plot_state(state, big=False):\n",
    "    fig = plt.figure(figsize=(36,18))\n",
    "    if big:\n",
    "        plt.imshow(state[0][0], cmap='gray');\n",
    "        return\n",
    "    \n",
    "    for i in range(state.shape[1]):\n",
    "        fig.add_subplot(1, FRAMES_TO_STACK, i + 1)\n",
    "        plt.imshow(state[0][i], cmap='gray');"
   ]
  },
  {
   "cell_type": "code",
   "execution_count": 131,
   "id": "521e7047",
   "metadata": {
    "scrolled": true
   },
   "outputs": [],
   "source": [
    "def create_env(name='MsPacman', render=None):\n",
    "    env = gym.make('ALE/' + name + '-v5',\n",
    "                    obs_type='grayscale',             # ram | rgb | grayscale\n",
    "                    frameskip=FRAMES_TO_SKIP,         # frame skip\n",
    "                    mode=0,                           # game mode, see Machado et al. 2018\n",
    "                    difficulty=0,                     # game difficulty, see Machado et al. 2018\n",
    "                    repeat_action_probability=0.25,   # Sticky action probability\n",
    "                    full_action_space=True,           # Use all actions\n",
    "                    render_mode=render                # None | human | rgb_array\n",
    "    )\n",
    "\n",
    "    #env = clip_reward_v0(env, lower_bound=-1, upper_bound=1)\n",
    "    #env = resize_v0(env, X_DIM, Y_DIM, linear_interp=True)\n",
    "    env = frame_stack_v1(env, 4)\n",
    "    \n",
    "    return env"
   ]
  },
  {
   "cell_type": "code",
   "execution_count": 156,
   "id": "9041e5e4",
   "metadata": {},
   "outputs": [],
   "source": [
    "def run_episode(env):\n",
    "    done = False\n",
    "    s = env.reset()\n",
    "    rewards = []\n",
    "    states = []\n",
    "\n",
    "    while not done:\n",
    "        action = env.action_space.sample()\n",
    "        s, r, done, _ = env.step(action)\n",
    "\n",
    "        rewards.append(r)\n",
    "        s = preprocess(s)\n",
    "        states.append(s[0])\n",
    "    \n",
    "    env.close()\n",
    "    return states"
   ]
  },
  {
   "cell_type": "code",
   "execution_count": 157,
   "id": "993af3a0",
   "metadata": {},
   "outputs": [],
   "source": [
    "env = create_env()"
   ]
  },
  {
   "cell_type": "code",
   "execution_count": 148,
   "id": "1d47374d",
   "metadata": {},
   "outputs": [],
   "source": [
    "states = run_episode(env)"
   ]
  },
  {
   "cell_type": "code",
   "execution_count": 155,
   "id": "c23421fd",
   "metadata": {},
   "outputs": [],
   "source": [
    "states_to_vid(states)"
   ]
  },
  {
   "cell_type": "code",
   "execution_count": 153,
   "id": "9ea52771",
   "metadata": {},
   "outputs": [],
   "source": [
    "def states_to_vid(states):\n",
    "    # expects states to be a list of array that have shape (h, w)\n",
    "    video = np.stack(states)\n",
    "    video = einops.rearrange(video, 'b h w -> b h w 1') * 255\n",
    "\n",
    "    num_frames, height, width, _ = video.shape\n",
    "\n",
    "    video = np.uint8(video)\n",
    "\n",
    "    filename = \"./test_vid.mp4\"\n",
    "    codec_id = \"mp4v\"\n",
    "    fourcc = cv2.VideoWriter_fourcc('m', 'p', '4', 'v')\n",
    "    out = cv2.VideoWriter(filename, fourcc, float(fps), (width, height), 0)\n",
    "\n",
    "\n",
    "    for frame in np.split(video, num_frames, axis=0):\n",
    "        out.write(frame[0])\n",
    "\n",
    "    out.release()"
   ]
  }
 ],
 "metadata": {
  "kernelspec": {
   "display_name": "Python 3 (ipykernel)",
   "language": "python",
   "name": "python3"
  },
  "language_info": {
   "codemirror_mode": {
    "name": "ipython",
    "version": 3
   },
   "file_extension": ".py",
   "mimetype": "text/x-python",
   "name": "python",
   "nbconvert_exporter": "python",
   "pygments_lexer": "ipython3",
   "version": "3.8.8"
  }
 },
 "nbformat": 4,
 "nbformat_minor": 5
}
