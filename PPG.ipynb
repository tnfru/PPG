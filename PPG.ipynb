{
  "nbformat": 4,
  "nbformat_minor": 0,
  "metadata": {
    "kernelspec": {
      "display_name": "Python 3 (ipykernel)",
      "language": "python",
      "name": "python3"
    },
    "language_info": {
      "codemirror_mode": {
        "name": "ipython",
        "version": 3
      },
      "file_extension": ".py",
      "mimetype": "text/x-python",
      "name": "python",
      "nbconvert_exporter": "python",
      "pygments_lexer": "ipython3",
      "version": "3.9.5"
    },
    "colab": {
      "name": "PPG.ipynb",
      "provenance": [],
      "collapsed_sections": [],
      "include_colab_link": true
    },
    "accelerator": "GPU",
    "widgets": {
      "application/vnd.jupyter.widget-state+json": {
        "64a89d33e3794bafb183c5aaa19b7c7a": {
          "model_module": "@jupyter-widgets/controls",
          "model_name": "VBoxModel",
          "model_module_version": "1.5.0",
          "state": {
            "_view_name": "VBoxView",
            "_dom_classes": [],
            "_model_name": "VBoxModel",
            "_view_module": "@jupyter-widgets/controls",
            "_model_module_version": "1.5.0",
            "_view_count": null,
            "_view_module_version": "1.5.0",
            "box_style": "",
            "layout": "IPY_MODEL_2bf3985eba564a77a698e4b1c8a26b87",
            "_model_module": "@jupyter-widgets/controls",
            "children": [
              "IPY_MODEL_acbf74d573324737bacaba48bc45c16b",
              "IPY_MODEL_b0384fa20e8448769a2064fecff9d452"
            ]
          }
        },
        "2bf3985eba564a77a698e4b1c8a26b87": {
          "model_module": "@jupyter-widgets/base",
          "model_name": "LayoutModel",
          "model_module_version": "1.2.0",
          "state": {
            "_view_name": "LayoutView",
            "grid_template_rows": null,
            "right": null,
            "justify_content": null,
            "_view_module": "@jupyter-widgets/base",
            "overflow": null,
            "_model_module_version": "1.2.0",
            "_view_count": null,
            "flex_flow": null,
            "width": null,
            "min_width": null,
            "border": null,
            "align_items": null,
            "bottom": null,
            "_model_module": "@jupyter-widgets/base",
            "top": null,
            "grid_column": null,
            "overflow_y": null,
            "overflow_x": null,
            "grid_auto_flow": null,
            "grid_area": null,
            "grid_template_columns": null,
            "flex": null,
            "_model_name": "LayoutModel",
            "justify_items": null,
            "grid_row": null,
            "max_height": null,
            "align_content": null,
            "visibility": null,
            "align_self": null,
            "height": null,
            "min_height": null,
            "padding": null,
            "grid_auto_rows": null,
            "grid_gap": null,
            "max_width": null,
            "order": null,
            "_view_module_version": "1.2.0",
            "grid_template_areas": null,
            "object_position": null,
            "object_fit": null,
            "grid_auto_columns": null,
            "margin": null,
            "display": null,
            "left": null
          }
        },
        "acbf74d573324737bacaba48bc45c16b": {
          "model_module": "@jupyter-widgets/controls",
          "model_name": "LabelModel",
          "model_module_version": "1.5.0",
          "state": {
            "_view_name": "LabelView",
            "style": "IPY_MODEL_dc21a85a8bbe49c68ae2dcfa9a79c491",
            "_dom_classes": [],
            "description": "",
            "_model_name": "LabelModel",
            "placeholder": "​",
            "_view_module": "@jupyter-widgets/controls",
            "_model_module_version": "1.5.0",
            "value": " 0.05MB of 0.05MB uploaded (0.00MB deduped)\r",
            "_view_count": null,
            "_view_module_version": "1.5.0",
            "description_tooltip": null,
            "_model_module": "@jupyter-widgets/controls",
            "layout": "IPY_MODEL_90f60eca792d4f8f9b1f77c054ac2c6e"
          }
        },
        "b0384fa20e8448769a2064fecff9d452": {
          "model_module": "@jupyter-widgets/controls",
          "model_name": "FloatProgressModel",
          "model_module_version": "1.5.0",
          "state": {
            "_view_name": "ProgressView",
            "style": "IPY_MODEL_f1138cbcc8d044c1bff3ac98a8d56b9a",
            "_dom_classes": [],
            "description": "",
            "_model_name": "FloatProgressModel",
            "bar_style": "",
            "max": 1,
            "_view_module": "@jupyter-widgets/controls",
            "_model_module_version": "1.5.0",
            "value": 1,
            "_view_count": null,
            "_view_module_version": "1.5.0",
            "orientation": "horizontal",
            "min": 0,
            "description_tooltip": null,
            "_model_module": "@jupyter-widgets/controls",
            "layout": "IPY_MODEL_34d265823ce9490587888716878a331d"
          }
        },
        "dc21a85a8bbe49c68ae2dcfa9a79c491": {
          "model_module": "@jupyter-widgets/controls",
          "model_name": "DescriptionStyleModel",
          "model_module_version": "1.5.0",
          "state": {
            "_view_name": "StyleView",
            "_model_name": "DescriptionStyleModel",
            "description_width": "",
            "_view_module": "@jupyter-widgets/base",
            "_model_module_version": "1.5.0",
            "_view_count": null,
            "_view_module_version": "1.2.0",
            "_model_module": "@jupyter-widgets/controls"
          }
        },
        "90f60eca792d4f8f9b1f77c054ac2c6e": {
          "model_module": "@jupyter-widgets/base",
          "model_name": "LayoutModel",
          "model_module_version": "1.2.0",
          "state": {
            "_view_name": "LayoutView",
            "grid_template_rows": null,
            "right": null,
            "justify_content": null,
            "_view_module": "@jupyter-widgets/base",
            "overflow": null,
            "_model_module_version": "1.2.0",
            "_view_count": null,
            "flex_flow": null,
            "width": null,
            "min_width": null,
            "border": null,
            "align_items": null,
            "bottom": null,
            "_model_module": "@jupyter-widgets/base",
            "top": null,
            "grid_column": null,
            "overflow_y": null,
            "overflow_x": null,
            "grid_auto_flow": null,
            "grid_area": null,
            "grid_template_columns": null,
            "flex": null,
            "_model_name": "LayoutModel",
            "justify_items": null,
            "grid_row": null,
            "max_height": null,
            "align_content": null,
            "visibility": null,
            "align_self": null,
            "height": null,
            "min_height": null,
            "padding": null,
            "grid_auto_rows": null,
            "grid_gap": null,
            "max_width": null,
            "order": null,
            "_view_module_version": "1.2.0",
            "grid_template_areas": null,
            "object_position": null,
            "object_fit": null,
            "grid_auto_columns": null,
            "margin": null,
            "display": null,
            "left": null
          }
        },
        "f1138cbcc8d044c1bff3ac98a8d56b9a": {
          "model_module": "@jupyter-widgets/controls",
          "model_name": "ProgressStyleModel",
          "model_module_version": "1.5.0",
          "state": {
            "_view_name": "StyleView",
            "_model_name": "ProgressStyleModel",
            "description_width": "",
            "_view_module": "@jupyter-widgets/base",
            "_model_module_version": "1.5.0",
            "_view_count": null,
            "_view_module_version": "1.2.0",
            "bar_color": null,
            "_model_module": "@jupyter-widgets/controls"
          }
        },
        "34d265823ce9490587888716878a331d": {
          "model_module": "@jupyter-widgets/base",
          "model_name": "LayoutModel",
          "model_module_version": "1.2.0",
          "state": {
            "_view_name": "LayoutView",
            "grid_template_rows": null,
            "right": null,
            "justify_content": null,
            "_view_module": "@jupyter-widgets/base",
            "overflow": null,
            "_model_module_version": "1.2.0",
            "_view_count": null,
            "flex_flow": null,
            "width": null,
            "min_width": null,
            "border": null,
            "align_items": null,
            "bottom": null,
            "_model_module": "@jupyter-widgets/base",
            "top": null,
            "grid_column": null,
            "overflow_y": null,
            "overflow_x": null,
            "grid_auto_flow": null,
            "grid_area": null,
            "grid_template_columns": null,
            "flex": null,
            "_model_name": "LayoutModel",
            "justify_items": null,
            "grid_row": null,
            "max_height": null,
            "align_content": null,
            "visibility": null,
            "align_self": null,
            "height": null,
            "min_height": null,
            "padding": null,
            "grid_auto_rows": null,
            "grid_gap": null,
            "max_width": null,
            "order": null,
            "_view_module_version": "1.2.0",
            "grid_template_areas": null,
            "object_position": null,
            "object_fit": null,
            "grid_auto_columns": null,
            "margin": null,
            "display": null,
            "left": null
          }
        }
      }
    }
  },
  "cells": [
    {
      "cell_type": "markdown",
      "metadata": {
        "id": "view-in-github",
        "colab_type": "text"
      },
      "source": [
        "<a href=\"https://colab.research.google.com/github/tnfru/PPO/blob/ppg/PPG.ipynb\" target=\"_parent\"><img src=\"https://colab.research.google.com/assets/colab-badge.svg\" alt=\"Open In Colab\"/></a>"
      ]
    },
    {
      "cell_type": "code",
      "metadata": {
        "id": "Saz1s_xX7rLJ"
      },
      "source": [
        "import gym\n",
        "import numpy as np\n",
        "import torch\n",
        "import torch.nn as nn\n",
        "import torch.optim as optim\n",
        "from torch.distributions.categorical import Categorical\n",
        "from collections import deque\n",
        "from torch.utils.data import DataLoader\n",
        "from tqdm.notebook import trange\n",
        "import wandb\n",
        "from torch.distributions.kl import kl_divergence"
      ],
      "execution_count": 1,
      "outputs": []
    },
    {
      "cell_type": "code",
      "metadata": {
        "id": "aQ4PsrWU7rLO"
      },
      "source": [
        "gym.envs.register(\n",
        "    id='CartPole-v2000',\n",
        "    entry_point='gym.envs.classic_control:CartPoleEnv',\n",
        "    max_episode_steps=2000\n",
        ")"
      ],
      "execution_count": 2,
      "outputs": []
    },
    {
      "cell_type": "code",
      "metadata": {
        "id": "QUCWgH897rLR"
      },
      "source": [
        "def normalize(x):\n",
        "    if torch.isnan(x.std()):\n",
        "        return x - x.mean(0)\n",
        "    \n",
        "    return (x - x.mean(0)) / (x.std(0) + 1e-8)"
      ],
      "execution_count": 3,
      "outputs": []
    },
    {
      "cell_type": "code",
      "metadata": {
        "id": "c3-FBEyb7rLS"
      },
      "source": [
        "class Trajectory(torch.utils.data.Dataset):\n",
        "    def __init__(self):\n",
        "        self.states = []\n",
        "        self.log_probs = []\n",
        "        self.actions = []\n",
        "        self.expected_returns = []\n",
        "        self.dones = []\n",
        "        self.advantages = []\n",
        "\n",
        "    def __len__(self):\n",
        "        return len(self.states)\n",
        "\n",
        "    def append_trajectory(self, states, actions, expected_returns, dones, log_probs, advantages):\n",
        "        self.states.extend(states)\n",
        "        self.actions.extend(actions)\n",
        "        self.expected_returns.extend(expected_returns)\n",
        "        self.dones.extend(dones)\n",
        "        self.log_probs.extend(log_probs)\n",
        "        self.advantages.extend(advantages)\n",
        "    \n",
        "    def convert_to_advantages(self, rewards, state_vals, discount_factor, gae_lambda=0.95):\n",
        "        advantages = []\n",
        "        advantage = 0\n",
        "        next_state_value = 0\n",
        "\n",
        "        for reward, state_val in zip(reversed(rewards), reversed(state_vals)):\n",
        "            td_error = reward + discount_factor * next_state_value - state_val\n",
        "            advantage = td_error + discount_factor * gae_lambda * advantage\n",
        "            next_state_value = state_val\n",
        "            advantages.insert(0, advantage)\n",
        "\n",
        "        return torch.tensor(advantages, dtype=torch.float)\n",
        "        \n",
        "    def fix_datatypes(self):\n",
        "        self.states = torch.stack(self.states)\n",
        "        self.actions = torch.tensor(self.actions, dtype=torch.long)\n",
        "        self.dones = torch.tensor(self.dones, dtype=torch.int)\n",
        "        self.log_probs = torch.tensor(self.log_probs, dtype=torch.float)\n",
        "        \n",
        "\n",
        "    def clear_memory(self):\n",
        "        self.states = []\n",
        "        self.log_probs = []\n",
        "        self.actions = []\n",
        "        self.rewards = []\n",
        "        self.dones = []\n",
        "    \n",
        "    def __getitem__(self, index):\n",
        "        state = self.states[index]\n",
        "        action = self.actions[index]\n",
        "        expected_return = self.expected_returns[index]\n",
        "        done = self.dones[index]\n",
        "        log_prob = self.log_probs[index]\n",
        "        advantage = self.advantages[index]\n",
        "        \n",
        "        return state, action, expected_return, done, log_prob, advantage"
      ],
      "execution_count": 4,
      "outputs": []
    },
    {
      "cell_type": "code",
      "metadata": {
        "colab": {
          "base_uri": "https://localhost:8080/"
        },
        "id": "Rs6IQYT7cQQQ",
        "outputId": "d44cb125-4963-4ffd-eb12-dc5b1a90f892"
      },
      "source": [
        "a = Categorical(logits=torch.tensor([1,2]).float())\n",
        "a.probs"
      ],
      "execution_count": 5,
      "outputs": [
        {
          "output_type": "execute_result",
          "data": {
            "text/plain": [
              "tensor([0.2689, 0.7311])"
            ]
          },
          "metadata": {
            "tags": []
          },
          "execution_count": 5
        }
      ]
    },
    {
      "cell_type": "code",
      "metadata": {
        "id": "bQx3LNwy7rLU"
      },
      "source": [
        "class Agent:\n",
        "    def __init__(self, env, action_dim, state_dim, batch_size, clip_ratio=0.25, entropy_coeff=0.01,\n",
        "                 kl_max=0.01):\n",
        "        self.env = env\n",
        "        self.actor = PPG(action_dim, state_dim)\n",
        "        self.actor_old = PPG(action_dim, state_dim)\n",
        "        self.critic = CriticNet(state_dim)\n",
        "        self.discount_factor = 0.99\n",
        "        self.batch_size = batch_size\n",
        "        self.clip_ratio = clip_ratio\n",
        "        self.actor_opt = optim.Adam(self.actor.parameters(), lr=3e-4)\n",
        "        self.critic_opt = optim.Adam(self.critic.parameters(), lr=1e-3)\n",
        "        self.critic_loss_fun = nn.MSELoss()\n",
        "        self.device = torch.device('cuda:0' if torch.cuda.is_available() else 'cpu')\n",
        "        self.train_iterations = 1\n",
        "        self.aux_iterations = 6\n",
        "        self.aux_freq = 32\n",
        "        self.steps = 0\n",
        "        self.rollout_length = 256\n",
        "        self.entropy_coeff = entropy_coeff\n",
        "        self.kl_max = kl_max\n",
        "        \n",
        "        # initialize logging\n",
        "        wandb.init(project=\"cartpole\")\n",
        "        wandb.watch(self.actor, log=\"all\")\n",
        "        wandb.watch(self.critic, log=\"all\")\n",
        "        wandb.run.name = 'PPG_' + wandb.run.name \n",
        "        \n",
        "    def get_action(self, obs):\n",
        "        action_probs, _ = self.actor(obs)\n",
        "\n",
        "        action_dist = Categorical(logits=action_probs)\n",
        "        action = action_dist.sample()\n",
        "        state_val = self.critic(obs)\n",
        "        \n",
        "        return action.item(), action_dist.log_prob(action).item(), state_val.squeeze().item()\n",
        "        \n",
        "    \n",
        "    def train(self):\n",
        "        for i in range(self.train_iterations):\n",
        "            loader = DataLoader(self.trajectory, batch_size=self.batch_size, shuffle=True, pin_memory=True)\n",
        "            self.steps += 1\n",
        "            self.actor_old.load_state_dict(self.actor.state_dict())\n",
        "            \n",
        "            for states, actions, expected_returns, dones, old_log_probs, advantages in loader:\n",
        "                states = states.to(self.device)\n",
        "                actions = actions.to(self.device)\n",
        "                expected_returns = expected_returns.unsqueeze(1).to(self.device)\n",
        "                advantages = advantages.to(self.device)\n",
        "                old_log_probs = old_log_probs.to(self.device)\n",
        "                \n",
        "                action_probs, _ = self.actor(states)\n",
        "                action_dist = Categorical(logits=action_probs)\n",
        "                with torch.no_grad():\n",
        "                    old_action_probs, _ = self.actor_old(states)\n",
        "                    old_action_dist = Categorical(logits=old_action_probs)\n",
        "                    kl_div = kl_divergence(old_action_dist, action_dist)\n",
        "\n",
        "                wandb.log({'kl div': kl_div.mean()})\n",
        "                if kl_div.mean() < self.kl_max:\n",
        "                    log_probs = action_dist.log_prob(actions)\n",
        "                    \n",
        "                    # log trick for efficient computational graph during backprop\n",
        "                    ratio = torch.exp(log_probs - old_log_probs)\n",
        "                    \n",
        "                    weighted_objective = advantages * ratio\n",
        "                    clipped_objective = torch.clamp(ratio, 1 - self.clip_ratio, 1 + self.clip_ratio) * advantages\n",
        "                    entropy_loss = action_dist.entropy().mean() * self.entropy_coeff\n",
        "                    \n",
        "                    objective = -torch.min(weighted_objective, clipped_objective).mean() - entropy_loss\n",
        "                    wandb.log({'entropy': entropy_loss})\n",
        "                    \n",
        "                    self.actor_opt.zero_grad()\n",
        "                    objective.backward(retain_graph=True)\n",
        "                    self.actor_opt.step()\n",
        "                \n",
        "                self.train_critic(states, expected_returns)\n",
        "\n",
        "        if self.steps == self.aux_freq:\n",
        "            self.steps = 0\n",
        "            self.actor_old.load_state_dict(self.actor.state_dict())\n",
        "\n",
        "            for _ in range(self.aux_iterations):\n",
        "                loader = DataLoader(self.trajectory, batch_size=self.batch_size, shuffle=True, pin_memory=True)\n",
        "                for states, actions, expected_returns, _, _, _ in loader:\n",
        "                    expected_returns = expected_returns.unsqueeze(1).to(self.device)\n",
        "                    states = states.to(self.device)\n",
        "                    actions = actions.to(self.device)\n",
        "\n",
        "                    action_probs_old, values_old = self.actor_old(states)\n",
        "                    action_dist_old = Categorical(logits=action_probs_old.detach())\n",
        "\n",
        "                    self.train_aux(states, expected_returns, action_dist_old, values_old)\n",
        "                    self.train_critic(states, expected_returns)\n",
        "\n",
        "    def clipped_value_loss(self, values, rewards, old_values, clip=0.4):\n",
        "        value_clipped = old_values + (values - old_values).clamp(-clip, clip)\n",
        "        value_loss_1 = (value_clipped.flatten() - rewards.flatten()) ** 2\n",
        "        value_loss_2 = (values.flatten() - rewards.flatten()) ** 2\n",
        "        return torch.mean(torch.max(value_loss_1, value_loss_2))\n",
        "\n",
        "\n",
        "    def train_aux(self, states, expected_returns, action_dist_old, values_old, beta=1, val_clip=1e-5):\n",
        "        action_probs, state_values = self.actor(states)\n",
        "        action_dist = Categorical(logits=action_probs)\n",
        "\n",
        "        kl_div = beta * kl_divergence(action_dist_old, action_dist).mean()\n",
        "        if kl_div < self.kl_max:\n",
        "            clipped_val_loss = self.clipped_value_loss(state_values, expected_returns, values_old).mean() * val_clip\n",
        "            actor_val_loss = clipped_val_loss + kl_div \n",
        "    \n",
        "            self.actor_opt.zero_grad()\n",
        "            actor_val_loss.backward()\n",
        "            self.actor_opt.step()\n",
        "    \n",
        "            wandb.log({'aux state value': state_values.mean()})\n",
        "            wandb.log({'aux loss': actor_val_loss.mean()})\n",
        "            wandb.log({'aux kl_div': kl_div})\n",
        "            \n",
        "    \n",
        "    def train_critic(self, states, expected_returns):\n",
        "        state_values = self.critic(states)\n",
        "        critic_loss = self.critic_loss_fun(state_values, expected_returns)\n",
        "\n",
        "        self.critic_opt.zero_grad()\n",
        "        critic_loss.backward()\n",
        "        self.critic_opt.step()\n",
        "    \n",
        "        wandb.log({'critic loss': critic_loss.mean()})\n",
        "        wandb.log({'critic state value': state_values.mean()})\n",
        "        \n",
        "    def run_episode(self, trajectory=None, render=False):\n",
        "        observations = []\n",
        "        actions = []\n",
        "        rewards = []\n",
        "        dones = []\n",
        "        log_probs = []\n",
        "        state_vals = []\n",
        "\n",
        "        done = False\n",
        "        obs = self.env.reset()\n",
        "        \n",
        "        while not done:\n",
        "            if render:\n",
        "                self.env.render()\n",
        "\n",
        "            obs = torch.tensor(obs, dtype=torch.float, device=self.device)\n",
        "            action, log_prob, state_val = agent.get_action(obs)\n",
        "            obs = obs.cpu()\n",
        "            next_obs, reward, done, _ = self.env.step(action)\n",
        "            \n",
        "            observations.append(obs)\n",
        "            state_vals.append(state_val)\n",
        "            actions.append(action)\n",
        "            rewards.append(reward)\n",
        "            dones.append(done)\n",
        "            log_probs.append(log_prob)\n",
        "\n",
        "            obs = next_obs\n",
        "            \n",
        "        wandb.log({'reward': np.sum(rewards)})\n",
        "        \n",
        "        if trajectory is not None:\n",
        "            advantages = trajectory.convert_to_advantages(rewards, state_vals, self.discount_factor)\n",
        "            expected_returns = torch.tensor(state_vals, dtype=torch.float) + advantages\n",
        "            advantages = normalize(advantages)\n",
        "            trajectory.append_trajectory(observations, actions, expected_returns, dones, log_probs, advantages)\n",
        "            return trajectory\n",
        "\n",
        "    def forget(self):\n",
        "        self.trajectory = Trajectory()\n",
        "\n",
        "    def run_timesteps(self, num_timesteps):\n",
        "        timesteps = 0\n",
        "        self.forget()\n",
        "\n",
        "        while timesteps < num_timesteps:\n",
        "            self.trajectory = self.run_episode(self.trajectory)\n",
        "\n",
        "            if len(self.trajectory) >= self.rollout_length:\n",
        "                timesteps += len(self.trajectory)\n",
        "\n",
        "                self.trajectory.fix_datatypes()\n",
        "                self.train()\n",
        "                self.forget()"
      ],
      "execution_count": 37,
      "outputs": []
    },
    {
      "cell_type": "code",
      "metadata": {
        "id": "Ci4r1s1E7rLW"
      },
      "source": [
        "class Policy(nn.Module):\n",
        "    def __init__(self, action_dim, state_dim):\n",
        "        super(Policy, self).__init__()\n",
        "        self.fc1 = nn.Sequential(\n",
        "            nn.Linear(state_dim, 64),\n",
        "            nn.ReLU()\n",
        "        )\n",
        "        \n",
        "        self.fc2 = nn.Sequential(\n",
        "            nn.Linear(64, 64),\n",
        "            nn.ReLU()\n",
        "        )\n",
        "        \n",
        "        self.fc3 = nn.Sequential(\n",
        "            nn.Linear(64, action_dim)\n",
        "        )\n",
        "        \n",
        "        self.device = torch.device('cuda:0' if torch.cuda.is_available() else 'cpu')\n",
        "        self.to(self.device)\n",
        "        \n",
        "    def forward(self, x):\n",
        "        x = self.fc1(x)\n",
        "        x = self.fc2(x)\n",
        "        x = self.fc3(x)\n",
        "        \n",
        "        return x"
      ],
      "execution_count": 38,
      "outputs": []
    },
    {
      "cell_type": "code",
      "metadata": {
        "id": "oNkyyuCpv0vF"
      },
      "source": [
        "class PPG(nn.Module):\n",
        "    def __init__(self, action_dim, state_dim):\n",
        "        super(PPG, self).__init__()\n",
        "        self.fc1 = nn.Sequential(\n",
        "            nn.Linear(state_dim, 64),\n",
        "            nn.ReLU()\n",
        "        )\n",
        "        \n",
        "        self.fc2 = nn.Sequential(\n",
        "            nn.Linear(64, 64),\n",
        "            nn.ReLU()\n",
        "        )\n",
        "        \n",
        "        self.action_head = nn.Sequential(\n",
        "            nn.Linear(64, action_dim)\n",
        "        )\n",
        "\n",
        "        self.val_head = nn.Sequential(\n",
        "            nn.Linear(64, 1)\n",
        "        )\n",
        "        \n",
        "        self.device = torch.device('cuda:0' if torch.cuda.is_available() else 'cpu')\n",
        "        self.to(self.device)\n",
        "        \n",
        "\n",
        "    def forward(self, x):\n",
        "        x = self.fc1(x)\n",
        "        x = self.fc2(x)\n",
        "        acts = self.action_head(x)\n",
        "        vals = self.val_head(x)\n",
        "        \n",
        "        return acts, vals"
      ],
      "execution_count": 39,
      "outputs": []
    },
    {
      "cell_type": "code",
      "metadata": {
        "id": "-pWLmufu7rLX"
      },
      "source": [
        "class CriticNet(nn.Module):\n",
        "    def __init__(self, state_dim):\n",
        "        super(CriticNet, self).__init__()\n",
        "        self.fc1 = nn.Sequential(\n",
        "            nn.Linear(state_dim, 64),\n",
        "            nn.ReLU()\n",
        "        )\n",
        "        \n",
        "        self.fc2 = nn.Sequential(\n",
        "            nn.Linear(64, 64),\n",
        "            nn.ReLU()\n",
        "        )\n",
        "        \n",
        "        self.fc3 = nn.Sequential(\n",
        "            nn.Linear(64, 1)\n",
        "        )       \n",
        "        \n",
        "        self.device = torch.device('cuda:0' if torch.cuda.is_available() else 'cpu')\n",
        "        self.to(self.device)\n",
        "        \n",
        "    def forward(self, x):\n",
        "        x = self.fc1(x)\n",
        "        x = self.fc2(x)\n",
        "        x = self.fc3(x)\n",
        "        \n",
        "        return x"
      ],
      "execution_count": 40,
      "outputs": []
    },
    {
      "cell_type": "code",
      "metadata": {
        "colab": {
          "base_uri": "https://localhost:8080/",
          "height": 920,
          "referenced_widgets": [
            "64a89d33e3794bafb183c5aaa19b7c7a",
            "2bf3985eba564a77a698e4b1c8a26b87",
            "acbf74d573324737bacaba48bc45c16b",
            "b0384fa20e8448769a2064fecff9d452",
            "dc21a85a8bbe49c68ae2dcfa9a79c491",
            "90f60eca792d4f8f9b1f77c054ac2c6e",
            "f1138cbcc8d044c1bff3ac98a8d56b9a",
            "34d265823ce9490587888716878a331d"
          ]
        },
        "id": "NlaL-VEj7rLi",
        "outputId": "ad993f4d-d06d-4588-bb87-7b83453f7d98"
      },
      "source": [
        "env = gym.make(\"CartPole-v2000\")\n",
        "agent = Agent(env, 2, 4, 64)\n",
        "\n",
        "agent.run_timesteps(1e7)\n",
        "        "
      ],
      "execution_count": null,
      "outputs": [
        {
          "output_type": "display_data",
          "data": {
            "text/html": [
              "Finishing last run (ID:gq06vsp2) before initializing another..."
            ],
            "text/plain": [
              "<IPython.core.display.HTML object>"
            ]
          },
          "metadata": {
            "tags": []
          }
        },
        {
          "output_type": "display_data",
          "data": {
            "text/html": [
              "<br/>Waiting for W&B process to finish, PID 768<br/>Program ended successfully."
            ],
            "text/plain": [
              "<IPython.core.display.HTML object>"
            ]
          },
          "metadata": {
            "tags": []
          }
        },
        {
          "output_type": "display_data",
          "data": {
            "application/vnd.jupyter.widget-view+json": {
              "model_id": "64a89d33e3794bafb183c5aaa19b7c7a",
              "version_minor": 0,
              "version_major": 2
            },
            "text/plain": [
              "VBox(children=(Label(value=' 0.00MB of 0.00MB uploaded (0.00MB deduped)\\r'), FloatProgress(value=1.0, max=1.0)…"
            ]
          },
          "metadata": {
            "tags": []
          }
        },
        {
          "output_type": "display_data",
          "data": {
            "text/html": [
              "Find user logs for this run at: <code>/content/wandb/run-20210810_113326-gq06vsp2/logs/debug.log</code>"
            ],
            "text/plain": [
              "<IPython.core.display.HTML object>"
            ]
          },
          "metadata": {
            "tags": []
          }
        },
        {
          "output_type": "display_data",
          "data": {
            "text/html": [
              "Find internal logs for this run at: <code>/content/wandb/run-20210810_113326-gq06vsp2/logs/debug-internal.log</code>"
            ],
            "text/plain": [
              "<IPython.core.display.HTML object>"
            ]
          },
          "metadata": {
            "tags": []
          }
        },
        {
          "output_type": "display_data",
          "data": {
            "text/html": [
              "<h3>Run summary:</h3><br/><style>\n",
              "    table.wandb td:nth-child(1) { padding: 0 10px; text-align: right }\n",
              "    </style><table class=\"wandb\">\n",
              "<tr><td>reward</td><td>2000.0</td></tr><tr><td>_runtime</td><td>316</td></tr><tr><td>_timestamp</td><td>1628595526</td></tr><tr><td>_step</td><td>13623</td></tr><tr><td>kl div</td><td>0.01371</td></tr><tr><td>entropy</td><td>0.00487</td></tr><tr><td>critic loss</td><td>1.349</td></tr><tr><td>critic state value</td><td>92.45853</td></tr><tr><td>aux state value</td><td>3.05204</td></tr><tr><td>aux loss</td><td>0.0879</td></tr><tr><td>aux kl_div</td><td>0.0</td></tr></table>"
            ],
            "text/plain": [
              "<IPython.core.display.HTML object>"
            ]
          },
          "metadata": {
            "tags": []
          }
        },
        {
          "output_type": "display_data",
          "data": {
            "text/html": [
              "<h3>Run history:</h3><br/><style>\n",
              "    table.wandb td:nth-child(1) { padding: 0 10px; text-align: right }\n",
              "    </style><table class=\"wandb\">\n",
              "<tr><td>reward</td><td>▁▁▁▁▁▁▁▁▁▁▁▁▁▁▁▁▁▁▁▁▁▁▁▁▁▁▁▁▁▁▁▁▁▂▂▂▂▂██</td></tr><tr><td>_runtime</td><td>▁▁▁▁▁▂▂▂▂▂▂▃▃▃▃▃▄▄▄▄▄▄▄▅▅▅▅▆▆▆▆▇▇▇▇▇▇▇██</td></tr><tr><td>_timestamp</td><td>▁▁▁▁▁▂▂▂▂▂▂▃▃▃▃▃▄▄▄▄▄▄▄▅▅▅▅▆▆▆▆▇▇▇▇▇▇▇██</td></tr><tr><td>_step</td><td>▁▁▁▂▂▂▂▂▂▃▃▃▃▃▃▄▄▄▄▄▅▅▅▅▅▅▆▆▆▆▆▇▇▇▇▇▇███</td></tr><tr><td>kl div</td><td>▁▁▁▁▁▁▁▁▁▁▁▁▁▁▂▁▁▁▁▃▃▁▃▁▁▁█▁▄▁▁▃▁▁▂▆▇▁▁▁</td></tr><tr><td>entropy</td><td>████▇▇▇▆▆▅▆▆▅▄▄▅▄▄▄▃▃▃▃▄▂▃▂▂▃▂▃▂▂▃▂▁▂▁▂▁</td></tr><tr><td>critic loss</td><td>▂▂▂▂▂▃▂▂▂▂▁▁▁▁▁▁▂▂▁▁▂▆▁▁▁▁▁█▁▁▁▁▁▁▄▁▁▁▂▁</td></tr><tr><td>critic state value</td><td>▁▁▂▂▂▃▃▄▄▅▅▅▆▆▅▆▇▇▇▇▇▇█▇██▇█████████████</td></tr><tr><td>aux state value</td><td>▁▁▁▁▂▂▂▄▄▄▅▅▆▆▆▇▆▇▆▇▇▇▇▇▇▇▇▇████████████</td></tr><tr><td>aux loss</td><td>▁▁▁▁▁▂▂▃▃▅▄▇▇▇▇▇▇▇▇▇▇▇▇▇▇▇██████████████</td></tr><tr><td>aux kl_div</td><td>▁▁▁▅▅▅▂█▃▄▄▁▄▁▁▁▁▁▁▁▁▁▁▁▁▁▁▁▁▁▁▁▁▁▁▁▁▁▁▁</td></tr></table><br/>"
            ],
            "text/plain": [
              "<IPython.core.display.HTML object>"
            ]
          },
          "metadata": {
            "tags": []
          }
        },
        {
          "output_type": "display_data",
          "data": {
            "text/html": [
              "Synced 4 W&B file(s), 0 media file(s), 0 artifact file(s) and 0 other file(s)"
            ],
            "text/plain": [
              "<IPython.core.display.HTML object>"
            ]
          },
          "metadata": {
            "tags": []
          }
        },
        {
          "output_type": "display_data",
          "data": {
            "text/html": [
              "\n",
              "                    <br/>Synced <strong style=\"color:#cdcd00\">lively-sound-161</strong>: <a href=\"https://wandb.ai/tnfru/cartpole/runs/gq06vsp2\" target=\"_blank\">https://wandb.ai/tnfru/cartpole/runs/gq06vsp2</a><br/>\n",
              "                "
            ],
            "text/plain": [
              "<IPython.core.display.HTML object>"
            ]
          },
          "metadata": {
            "tags": []
          }
        },
        {
          "output_type": "display_data",
          "data": {
            "text/html": [
              "...Successfully finished last run (ID:gq06vsp2). Initializing new run:<br/><br/>"
            ],
            "text/plain": [
              "<IPython.core.display.HTML object>"
            ]
          },
          "metadata": {
            "tags": []
          }
        },
        {
          "output_type": "display_data",
          "data": {
            "text/html": [
              "\n",
              "                Tracking run with wandb version 0.11.2<br/>\n",
              "                Syncing run <strong style=\"color:#cdcd00\">elated-butterfly-162</strong> to <a href=\"https://wandb.ai\" target=\"_blank\">Weights & Biases</a> <a href=\"https://docs.wandb.com/integrations/jupyter.html\" target=\"_blank\">(Documentation)</a>.<br/>\n",
              "                Project page: <a href=\"https://wandb.ai/tnfru/cartpole\" target=\"_blank\">https://wandb.ai/tnfru/cartpole</a><br/>\n",
              "                Run page: <a href=\"https://wandb.ai/tnfru/cartpole/runs/233h5nuj\" target=\"_blank\">https://wandb.ai/tnfru/cartpole/runs/233h5nuj</a><br/>\n",
              "                Run data is saved locally in <code>/content/wandb/run-20210810_113846-233h5nuj</code><br/><br/>\n",
              "            "
            ],
            "text/plain": [
              "<IPython.core.display.HTML object>"
            ]
          },
          "metadata": {
            "tags": []
          }
        }
      ]
    },
    {
      "cell_type": "code",
      "metadata": {
        "id": "Yn17eafgnkE4"
      },
      "source": [
        ""
      ],
      "execution_count": null,
      "outputs": []
    }
  ]
}