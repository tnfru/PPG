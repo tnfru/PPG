{
  "nbformat": 4,
  "nbformat_minor": 0,
  "metadata": {
    "kernelspec": {
      "display_name": "Python 3 (ipykernel)",
      "language": "python",
      "name": "python3"
    },
    "language_info": {
      "codemirror_mode": {
        "name": "ipython",
        "version": 3
      },
      "file_extension": ".py",
      "mimetype": "text/x-python",
      "name": "python",
      "nbconvert_exporter": "python",
      "pygments_lexer": "ipython3",
      "version": "3.9.5"
    },
    "colab": {
      "name": "Cartpole.ipynb",
      "provenance": []
    },
    "accelerator": "GPU",
    "widgets": {
      "application/vnd.jupyter.widget-state+json": {
        "4763c0ceca294a6c86b30d79d55333e6": {
          "model_module": "@jupyter-widgets/controls",
          "model_name": "VBoxModel",
          "state": {
            "_view_name": "VBoxView",
            "_dom_classes": [],
            "_model_name": "VBoxModel",
            "_view_module": "@jupyter-widgets/controls",
            "_model_module_version": "1.5.0",
            "_view_count": null,
            "_view_module_version": "1.5.0",
            "box_style": "",
            "layout": "IPY_MODEL_dded35ea3b964fa89e903a02bf9a28e1",
            "_model_module": "@jupyter-widgets/controls",
            "children": [
              "IPY_MODEL_923a5be3a3d749368b09618e2c866328",
              "IPY_MODEL_c9076e34072442479502b8813c0add77"
            ]
          }
        },
        "dded35ea3b964fa89e903a02bf9a28e1": {
          "model_module": "@jupyter-widgets/base",
          "model_name": "LayoutModel",
          "state": {
            "_view_name": "LayoutView",
            "grid_template_rows": null,
            "right": null,
            "justify_content": null,
            "_view_module": "@jupyter-widgets/base",
            "overflow": null,
            "_model_module_version": "1.2.0",
            "_view_count": null,
            "flex_flow": null,
            "width": null,
            "min_width": null,
            "border": null,
            "align_items": null,
            "bottom": null,
            "_model_module": "@jupyter-widgets/base",
            "top": null,
            "grid_column": null,
            "overflow_y": null,
            "overflow_x": null,
            "grid_auto_flow": null,
            "grid_area": null,
            "grid_template_columns": null,
            "flex": null,
            "_model_name": "LayoutModel",
            "justify_items": null,
            "grid_row": null,
            "max_height": null,
            "align_content": null,
            "visibility": null,
            "align_self": null,
            "height": null,
            "min_height": null,
            "padding": null,
            "grid_auto_rows": null,
            "grid_gap": null,
            "max_width": null,
            "order": null,
            "_view_module_version": "1.2.0",
            "grid_template_areas": null,
            "object_position": null,
            "object_fit": null,
            "grid_auto_columns": null,
            "margin": null,
            "display": null,
            "left": null
          }
        },
        "923a5be3a3d749368b09618e2c866328": {
          "model_module": "@jupyter-widgets/controls",
          "model_name": "LabelModel",
          "state": {
            "_view_name": "LabelView",
            "style": "IPY_MODEL_f261e0e94e5244cfbfb4800739be5e51",
            "_dom_classes": [],
            "description": "",
            "_model_name": "LabelModel",
            "placeholder": "​",
            "_view_module": "@jupyter-widgets/controls",
            "_model_module_version": "1.5.0",
            "value": " 0.01MB of 0.01MB uploaded (0.00MB deduped)\r",
            "_view_count": null,
            "_view_module_version": "1.5.0",
            "description_tooltip": null,
            "_model_module": "@jupyter-widgets/controls",
            "layout": "IPY_MODEL_cbe0b08b02f54bf8aa8e3bfadbbcb11c"
          }
        },
        "c9076e34072442479502b8813c0add77": {
          "model_module": "@jupyter-widgets/controls",
          "model_name": "FloatProgressModel",
          "state": {
            "_view_name": "ProgressView",
            "style": "IPY_MODEL_c3cf5c1007634981b7ea18ddfd589b77",
            "_dom_classes": [],
            "description": "",
            "_model_name": "FloatProgressModel",
            "bar_style": "",
            "max": 1,
            "_view_module": "@jupyter-widgets/controls",
            "_model_module_version": "1.5.0",
            "value": 1,
            "_view_count": null,
            "_view_module_version": "1.5.0",
            "orientation": "horizontal",
            "min": 0,
            "description_tooltip": null,
            "_model_module": "@jupyter-widgets/controls",
            "layout": "IPY_MODEL_03900c68c7724a12ab199668113f2227"
          }
        },
        "f261e0e94e5244cfbfb4800739be5e51": {
          "model_module": "@jupyter-widgets/controls",
          "model_name": "DescriptionStyleModel",
          "state": {
            "_view_name": "StyleView",
            "_model_name": "DescriptionStyleModel",
            "description_width": "",
            "_view_module": "@jupyter-widgets/base",
            "_model_module_version": "1.5.0",
            "_view_count": null,
            "_view_module_version": "1.2.0",
            "_model_module": "@jupyter-widgets/controls"
          }
        },
        "cbe0b08b02f54bf8aa8e3bfadbbcb11c": {
          "model_module": "@jupyter-widgets/base",
          "model_name": "LayoutModel",
          "state": {
            "_view_name": "LayoutView",
            "grid_template_rows": null,
            "right": null,
            "justify_content": null,
            "_view_module": "@jupyter-widgets/base",
            "overflow": null,
            "_model_module_version": "1.2.0",
            "_view_count": null,
            "flex_flow": null,
            "width": null,
            "min_width": null,
            "border": null,
            "align_items": null,
            "bottom": null,
            "_model_module": "@jupyter-widgets/base",
            "top": null,
            "grid_column": null,
            "overflow_y": null,
            "overflow_x": null,
            "grid_auto_flow": null,
            "grid_area": null,
            "grid_template_columns": null,
            "flex": null,
            "_model_name": "LayoutModel",
            "justify_items": null,
            "grid_row": null,
            "max_height": null,
            "align_content": null,
            "visibility": null,
            "align_self": null,
            "height": null,
            "min_height": null,
            "padding": null,
            "grid_auto_rows": null,
            "grid_gap": null,
            "max_width": null,
            "order": null,
            "_view_module_version": "1.2.0",
            "grid_template_areas": null,
            "object_position": null,
            "object_fit": null,
            "grid_auto_columns": null,
            "margin": null,
            "display": null,
            "left": null
          }
        },
        "c3cf5c1007634981b7ea18ddfd589b77": {
          "model_module": "@jupyter-widgets/controls",
          "model_name": "ProgressStyleModel",
          "state": {
            "_view_name": "StyleView",
            "_model_name": "ProgressStyleModel",
            "description_width": "",
            "_view_module": "@jupyter-widgets/base",
            "_model_module_version": "1.5.0",
            "_view_count": null,
            "_view_module_version": "1.2.0",
            "bar_color": null,
            "_model_module": "@jupyter-widgets/controls"
          }
        },
        "03900c68c7724a12ab199668113f2227": {
          "model_module": "@jupyter-widgets/base",
          "model_name": "LayoutModel",
          "state": {
            "_view_name": "LayoutView",
            "grid_template_rows": null,
            "right": null,
            "justify_content": null,
            "_view_module": "@jupyter-widgets/base",
            "overflow": null,
            "_model_module_version": "1.2.0",
            "_view_count": null,
            "flex_flow": null,
            "width": null,
            "min_width": null,
            "border": null,
            "align_items": null,
            "bottom": null,
            "_model_module": "@jupyter-widgets/base",
            "top": null,
            "grid_column": null,
            "overflow_y": null,
            "overflow_x": null,
            "grid_auto_flow": null,
            "grid_area": null,
            "grid_template_columns": null,
            "flex": null,
            "_model_name": "LayoutModel",
            "justify_items": null,
            "grid_row": null,
            "max_height": null,
            "align_content": null,
            "visibility": null,
            "align_self": null,
            "height": null,
            "min_height": null,
            "padding": null,
            "grid_auto_rows": null,
            "grid_gap": null,
            "max_width": null,
            "order": null,
            "_view_module_version": "1.2.0",
            "grid_template_areas": null,
            "object_position": null,
            "object_fit": null,
            "grid_auto_columns": null,
            "margin": null,
            "display": null,
            "left": null
          }
        }
      }
    }
  },
  "cells": [
    {
      "cell_type": "code",
      "metadata": {
        "id": "Saz1s_xX7rLJ"
      },
      "source": [
        "import gym\n",
        "import numpy as np\n",
        "import torch\n",
        "import torch.nn as nn\n",
        "import torch.optim as optim\n",
        "from torch.distributions.categorical import Categorical\n",
        "from collections import deque\n",
        "from torch.utils.data import DataLoader\n",
        "from tqdm.notebook import trange\n",
        "import wandb"
      ],
      "execution_count": 4,
      "outputs": []
    },
    {
      "cell_type": "code",
      "metadata": {
        "colab": {
          "base_uri": "https://localhost:8080/",
          "height": 366
        },
        "id": "aQ4PsrWU7rLO",
        "outputId": "4c123451-ead2-4d1c-e20f-6556b62c90b5"
      },
      "source": [
        "gym.envs.register(\n",
        "    id='CartPole-v200',\n",
        "    entry_point='gym.envs.classic_control:CartPoleEnv',\n",
        "    max_episode_steps=200,\n",
        "    reward_threshold=195.0,\n",
        ")"
      ],
      "execution_count": 6,
      "outputs": [
        {
          "output_type": "error",
          "ename": "Error",
          "evalue": "ignored",
          "traceback": [
            "\u001b[0;31m---------------------------------------------------------------------------\u001b[0m",
            "\u001b[0;31mError\u001b[0m                                     Traceback (most recent call last)",
            "\u001b[0;32m<ipython-input-6-57dc4f35743d>\u001b[0m in \u001b[0;36m<module>\u001b[0;34m()\u001b[0m\n\u001b[1;32m      3\u001b[0m     \u001b[0mentry_point\u001b[0m\u001b[0;34m=\u001b[0m\u001b[0;34m'gym.envs.classic_control:CartPoleEnv'\u001b[0m\u001b[0;34m,\u001b[0m\u001b[0;34m\u001b[0m\u001b[0;34m\u001b[0m\u001b[0m\n\u001b[1;32m      4\u001b[0m     \u001b[0mmax_episode_steps\u001b[0m\u001b[0;34m=\u001b[0m\u001b[0;36m200\u001b[0m\u001b[0;34m,\u001b[0m\u001b[0;34m\u001b[0m\u001b[0;34m\u001b[0m\u001b[0m\n\u001b[0;32m----> 5\u001b[0;31m     \u001b[0mreward_threshold\u001b[0m\u001b[0;34m=\u001b[0m\u001b[0;36m195.0\u001b[0m\u001b[0;34m,\u001b[0m\u001b[0;34m\u001b[0m\u001b[0;34m\u001b[0m\u001b[0m\n\u001b[0m\u001b[1;32m      6\u001b[0m )\n",
            "\u001b[0;32m/usr/local/lib/python3.7/dist-packages/gym/envs/registration.py\u001b[0m in \u001b[0;36mregister\u001b[0;34m(id, **kwargs)\u001b[0m\n\u001b[1;32m    140\u001b[0m \u001b[0;34m\u001b[0m\u001b[0m\n\u001b[1;32m    141\u001b[0m \u001b[0;32mdef\u001b[0m \u001b[0mregister\u001b[0m\u001b[0;34m(\u001b[0m\u001b[0mid\u001b[0m\u001b[0;34m,\u001b[0m \u001b[0;34m**\u001b[0m\u001b[0mkwargs\u001b[0m\u001b[0;34m)\u001b[0m\u001b[0;34m:\u001b[0m\u001b[0;34m\u001b[0m\u001b[0;34m\u001b[0m\u001b[0m\n\u001b[0;32m--> 142\u001b[0;31m     \u001b[0;32mreturn\u001b[0m \u001b[0mregistry\u001b[0m\u001b[0;34m.\u001b[0m\u001b[0mregister\u001b[0m\u001b[0;34m(\u001b[0m\u001b[0mid\u001b[0m\u001b[0;34m,\u001b[0m \u001b[0;34m**\u001b[0m\u001b[0mkwargs\u001b[0m\u001b[0;34m)\u001b[0m\u001b[0;34m\u001b[0m\u001b[0;34m\u001b[0m\u001b[0m\n\u001b[0m\u001b[1;32m    143\u001b[0m \u001b[0;34m\u001b[0m\u001b[0m\n\u001b[1;32m    144\u001b[0m \u001b[0;32mdef\u001b[0m \u001b[0mmake\u001b[0m\u001b[0;34m(\u001b[0m\u001b[0mid\u001b[0m\u001b[0;34m,\u001b[0m \u001b[0;34m**\u001b[0m\u001b[0mkwargs\u001b[0m\u001b[0;34m)\u001b[0m\u001b[0;34m:\u001b[0m\u001b[0;34m\u001b[0m\u001b[0;34m\u001b[0m\u001b[0m\n",
            "\u001b[0;32m/usr/local/lib/python3.7/dist-packages/gym/envs/registration.py\u001b[0m in \u001b[0;36mregister\u001b[0;34m(self, id, **kwargs)\u001b[0m\n\u001b[1;32m    133\u001b[0m     \u001b[0;32mdef\u001b[0m \u001b[0mregister\u001b[0m\u001b[0;34m(\u001b[0m\u001b[0mself\u001b[0m\u001b[0;34m,\u001b[0m \u001b[0mid\u001b[0m\u001b[0;34m,\u001b[0m \u001b[0;34m**\u001b[0m\u001b[0mkwargs\u001b[0m\u001b[0;34m)\u001b[0m\u001b[0;34m:\u001b[0m\u001b[0;34m\u001b[0m\u001b[0;34m\u001b[0m\u001b[0m\n\u001b[1;32m    134\u001b[0m         \u001b[0;32mif\u001b[0m \u001b[0mid\u001b[0m \u001b[0;32min\u001b[0m \u001b[0mself\u001b[0m\u001b[0;34m.\u001b[0m\u001b[0menv_specs\u001b[0m\u001b[0;34m:\u001b[0m\u001b[0;34m\u001b[0m\u001b[0;34m\u001b[0m\u001b[0m\n\u001b[0;32m--> 135\u001b[0;31m             \u001b[0;32mraise\u001b[0m \u001b[0merror\u001b[0m\u001b[0;34m.\u001b[0m\u001b[0mError\u001b[0m\u001b[0;34m(\u001b[0m\u001b[0;34m'Cannot re-register id: {}'\u001b[0m\u001b[0;34m.\u001b[0m\u001b[0mformat\u001b[0m\u001b[0;34m(\u001b[0m\u001b[0mid\u001b[0m\u001b[0;34m)\u001b[0m\u001b[0;34m)\u001b[0m\u001b[0;34m\u001b[0m\u001b[0;34m\u001b[0m\u001b[0m\n\u001b[0m\u001b[1;32m    136\u001b[0m         \u001b[0mself\u001b[0m\u001b[0;34m.\u001b[0m\u001b[0menv_specs\u001b[0m\u001b[0;34m[\u001b[0m\u001b[0mid\u001b[0m\u001b[0;34m]\u001b[0m \u001b[0;34m=\u001b[0m \u001b[0mEnvSpec\u001b[0m\u001b[0;34m(\u001b[0m\u001b[0mid\u001b[0m\u001b[0;34m,\u001b[0m \u001b[0;34m**\u001b[0m\u001b[0mkwargs\u001b[0m\u001b[0;34m)\u001b[0m\u001b[0;34m\u001b[0m\u001b[0;34m\u001b[0m\u001b[0m\n\u001b[1;32m    137\u001b[0m \u001b[0;34m\u001b[0m\u001b[0m\n",
            "\u001b[0;31mError\u001b[0m: Cannot re-register id: CartPole-v200"
          ]
        }
      ]
    },
    {
      "cell_type": "code",
      "metadata": {
        "id": "UBLmj5-47rLQ"
      },
      "source": [
        "def rewards_to_go(rewards, discount_factor=0.99):\n",
        "    # from https://spinningup.openai.com/en/latest/spinningup/rl_intro3.html\n",
        "    \n",
        "    r2g = []\n",
        "    discounted_reward = 0\n",
        "    \n",
        "    for reward in reversed(rewards):\n",
        "        discounted_reward = reward + discount_factor * discounted_reward\n",
        "        r2g.insert(0, discounted_reward)\n",
        "    \n",
        "    return torch.tensor(r2g, dtype=torch.float)"
      ],
      "execution_count": 7,
      "outputs": []
    },
    {
      "cell_type": "code",
      "metadata": {
        "id": "5EZDhcrb7rLR"
      },
      "source": [
        "def compute_advantage(rewards, state_values):\n",
        "    advantages = rewards - state_values\n",
        "    return normalize(advantages)\n",
        "    #return advantages"
      ],
      "execution_count": 8,
      "outputs": []
    },
    {
      "cell_type": "code",
      "metadata": {
        "id": "QUCWgH897rLR"
      },
      "source": [
        "def normalize(x):\n",
        "    if torch.isnan(x.std()):\n",
        "        return x - x.mean(0)\n",
        "    \n",
        "    return (x - x.mean(0)) / (x.std(0) + 1e-8)"
      ],
      "execution_count": 42,
      "outputs": []
    },
    {
      "cell_type": "code",
      "metadata": {
        "id": "c3-FBEyb7rLS"
      },
      "source": [
        "class Trajectory(torch.utils.data.Dataset):\n",
        "    def __init__(self):\n",
        "        self.states = []\n",
        "        self.log_probs = []\n",
        "        self.actions = []\n",
        "        self.rewards = []\n",
        "        self.dones = []\n",
        "\n",
        "    def __len__(self):\n",
        "        return len(self.states)\n",
        "\n",
        "    def append_trajectory(self, states, actions, rewards, dones, log_probs):\n",
        "        self.states.extend(states)\n",
        "        self.actions.extend(actions)\n",
        "        self.rewards.extend(rewards)\n",
        "        self.dones.extend(dones)\n",
        "        self.log_probs.extend(log_probs)\n",
        "    \n",
        "    def convert_to_expected_return(self, rewards, discount_factor):\n",
        "        # from https://spinningup.openai.com/en/latest/spinningup/rl_intro3.html\n",
        "        r2g = []\n",
        "        discounted_reward = 0\n",
        "\n",
        "        for reward in reversed(rewards):\n",
        "            discounted_reward = reward + discount_factor * discounted_reward\n",
        "            r2g.insert(0, discounted_reward)\n",
        "\n",
        "        return torch.tensor(r2g, dtype=torch.float)\n",
        "        \n",
        "    def fix_datatypes(self):\n",
        "        self.states = torch.stack(self.states)\n",
        "        self.actions = torch.tensor(self.actions, dtype=torch.long)\n",
        "        self.dones = torch.tensor(self.dones, dtype=torch.int)\n",
        "        self.log_probs = torch.tensor(self.log_probs, dtype=torch.float)\n",
        "        \n",
        "\n",
        "    def store_timestep(self, state, action, reward, done, log_prob):\n",
        "        self.states.append(state)\n",
        "        self.actions.append(action)\n",
        "        self.rewards.append(reward)\n",
        "        self.dones.append(done)\n",
        "        self.log_probs.append(log_prob)\n",
        "        \n",
        "    def clear_memory(self):\n",
        "        self.states = []\n",
        "        self.log_probs = []\n",
        "        self.actions = []\n",
        "        self.rewards = []\n",
        "        self.dones = []\n",
        "    \n",
        "    def __getitem__(self, index):\n",
        "        state = self.states[index]\n",
        "        action = self.actions[index]\n",
        "        reward = self.rewards[index]\n",
        "        done = self.dones[index]\n",
        "        log_prob = self.log_probs[index]\n",
        "        \n",
        "        return state, action, reward, done, log_prob"
      ],
      "execution_count": 62,
      "outputs": []
    },
    {
      "cell_type": "code",
      "metadata": {
        "id": "bQx3LNwy7rLU"
      },
      "source": [
        "class Agent:\n",
        "    def __init__(self, env, action_dim, state_dim, batch_size, clip_ratio=0.2):\n",
        "        self.env = env\n",
        "        self.actor = Policy(action_dim, state_dim)\n",
        "        self.critic = CriticNet(state_dim)\n",
        "        self.trajectories = deque(maxlen=2)\n",
        "        self.discount_factor = 0.99\n",
        "        self.batch_size = batch_size\n",
        "        self.clip_ratio = clip_ratio\n",
        "        self.actor_opt = optim.Adam(self.actor.parameters(), lr=1e-3)\n",
        "        self.critic_opt = optim.Adam(self.critic.parameters(), lr=5e-2)\n",
        "        self.critic_loss = nn.MSELoss()\n",
        "        self.device = torch.device('cuda:0' if torch.cuda.is_available() else 'cpu')\n",
        "        self.train_iterations = 1\n",
        "        \n",
        "        # initialize logging\n",
        "        wandb.init(project=\"cartpole\")\n",
        "        wandb.watch(self.actor, log=\"all\")\n",
        "        wandb.watch(self.critic, log=\"all\")\n",
        "        wandb.run.name = 'all_train_' + str(self.train_iterations) + '_' + wandb.run.name \n",
        "        \n",
        "    def get_action(self, obs):\n",
        "        action_probs = self.actor(obs)\n",
        "\n",
        "        action_dist = Categorical(logits=action_probs)\n",
        "        action = action_dist.sample()\n",
        "        \n",
        "        return action.item(), action_dist.log_prob(action).item()\n",
        "    \n",
        "    def train(self):\n",
        "        #trajectory = self.trajectories[-1]\n",
        "        #for trajectory in self.trajectories:\n",
        "        for i in range(self.train_iterations):\n",
        "            loader = DataLoader(self.trajectory, batch_size=self.batch_size, shuffle=True, pin_memory=True,\n",
        "                               drop_last=True)\n",
        "            \n",
        "            for states, actions, rewards, dones, old_log_probs in loader:\n",
        "                states = states.to(self.device)\n",
        "                actions = actions.to(self.device)\n",
        "                rewards = rewards.to(self.device)\n",
        "                old_log_probs = old_log_probs.to(self.device)\n",
        "                \n",
        "                state_values = self.critic(states)\n",
        "                state_values = state_values.squeeze()\n",
        "                advantages = compute_advantage(rewards, state_values.detach())\n",
        "                \n",
        "                action_probs = self.actor(states)\n",
        "                action_dist = Categorical(logits=action_probs)\n",
        "                log_probs = action_dist.log_prob(actions)\n",
        "                \n",
        "                # log trick for efficient computational graph during backprop\n",
        "                ratio = torch.exp(log_probs - old_log_probs)\n",
        "                \n",
        "                weighted_objective = advantages * ratio\n",
        "                clipped_objective = torch.clamp(ratio, 1 - self.clip_ratio, 1 + self.clip_ratio) * advantages\n",
        "                \n",
        "                actor_loss = -torch.min(weighted_objective, clipped_objective).mean()\n",
        "                critic_loss = self.critic_loss(state_values, rewards)\n",
        "                \n",
        "                self.actor_opt.zero_grad()\n",
        "                actor_loss.backward(retain_graph=True)\n",
        "                self.actor_opt.step()\n",
        "                \n",
        "                self.critic_opt.zero_grad()\n",
        "                critic_loss.backward()\n",
        "                self.critic_opt.step()\n",
        "                \n",
        "                wandb.log({'critic loss': critic_loss.mean()})\n",
        "                wandb.log({'avg state value': state_values.mean()})\n",
        "        \n",
        "    \n",
        "    def run_episode(self, trajectory=None, render=False):\n",
        "        observations = []\n",
        "        actions = []\n",
        "        rewards = []\n",
        "        dones = []\n",
        "        log_probs = []\n",
        "        \n",
        "        done = False\n",
        "        obs = self.env.reset()\n",
        "        \n",
        "        while not done:\n",
        "            if render:\n",
        "                self.env.render()\n",
        "\n",
        "            obs = torch.tensor(obs, dtype=torch.float, device=self.device)\n",
        "            action, log_prob = agent.get_action(obs)\n",
        "            obs = obs.cpu()\n",
        "            next_obs, reward, done, _ = self.env.step(action)\n",
        "            \n",
        "            observations.append(obs)\n",
        "            actions.append(action)\n",
        "            rewards.append(reward)\n",
        "            dones.append(done)\n",
        "            log_probs.append(log_prob)\n",
        "\n",
        "            # trajectory.store_timestep(obs, action, reward, done, log_prob)\n",
        "            obs = next_obs\n",
        "            \n",
        "        wandb.log({'reward': np.sum(rewards)})\n",
        "        \n",
        "        if trajectory is not None:\n",
        "            returns = trajectory.convert_to_expected_return(rewards, self.discount_factor)\n",
        "            trajectory.append_trajectory(observations, actions, returns, dones, log_probs)\n",
        "            #trajectory.fix_datatypes()\n",
        "            #self.trajectories.append(trajectory)\n",
        "            return trajectory\n",
        "\n",
        "\n",
        "    def run_timesteps(self, num_timesteps):\n",
        "        timesteps = 0\n",
        "        trajectory = Trajectory()\n",
        "\n",
        "        while len(trajectory) < num_timesteps:\n",
        "            trajectory = self.run_episode(trajectory)\n",
        "        trajectory.fix_datatypes()\n",
        "        self.trajectory = trajectory\n"
      ],
      "execution_count": 71,
      "outputs": []
    },
    {
      "cell_type": "code",
      "metadata": {
        "id": "Ci4r1s1E7rLW"
      },
      "source": [
        "class Policy(nn.Module):\n",
        "    def __init__(self, action_dim, state_dim):\n",
        "        super(Policy, self).__init__()\n",
        "        self.fc1 = nn.Sequential(\n",
        "            nn.Linear(state_dim, 64),\n",
        "            nn.ReLU()\n",
        "        )\n",
        "        \n",
        "        self.fc2 = nn.Sequential(\n",
        "            nn.Linear(64, 64),\n",
        "            nn.ReLU()\n",
        "        )\n",
        "        \n",
        "        self.fc3 = nn.Sequential(\n",
        "            nn.Linear(64, action_dim)\n",
        "        )\n",
        "        \n",
        "        self.device = torch.device('cuda:0' if torch.cuda.is_available() else 'cpu')\n",
        "        self.to(self.device)\n",
        "        \n",
        "    def forward(self, x):\n",
        "        x = self.fc1(x)\n",
        "        x = self.fc2(x)\n",
        "        x = self.fc3(x)\n",
        "        \n",
        "        return x"
      ],
      "execution_count": 72,
      "outputs": []
    },
    {
      "cell_type": "code",
      "metadata": {
        "id": "-pWLmufu7rLX"
      },
      "source": [
        "class CriticNet(nn.Module):\n",
        "    def __init__(self, state_dim):\n",
        "        super(CriticNet, self).__init__()\n",
        "        self.fc1 = nn.Sequential(\n",
        "            nn.Linear(state_dim, 64),\n",
        "            nn.ReLU()\n",
        "        )\n",
        "        \n",
        "        self.fc2 = nn.Sequential(\n",
        "            nn.Linear(64, 64),\n",
        "            nn.ReLU()\n",
        "        )\n",
        "        \n",
        "        self.fc3 = nn.Sequential(\n",
        "            nn.Linear(64, 1)\n",
        "        )       \n",
        "        \n",
        "        self.device = torch.device('cuda:0' if torch.cuda.is_available() else 'cpu')\n",
        "        self.to(self.device)\n",
        "        \n",
        "    def forward(self, x):\n",
        "        x = self.fc1(x)\n",
        "        x = self.fc2(x)\n",
        "        x = self.fc3(x)\n",
        "        \n",
        "        return x"
      ],
      "execution_count": 73,
      "outputs": []
    },
    {
      "cell_type": "code",
      "metadata": {
        "colab": {
          "base_uri": "https://localhost:8080/",
          "height": 370,
          "referenced_widgets": [
            "4763c0ceca294a6c86b30d79d55333e6",
            "dded35ea3b964fa89e903a02bf9a28e1",
            "923a5be3a3d749368b09618e2c866328",
            "c9076e34072442479502b8813c0add77",
            "f261e0e94e5244cfbfb4800739be5e51",
            "cbe0b08b02f54bf8aa8e3bfadbbcb11c",
            "c3cf5c1007634981b7ea18ddfd589b77",
            "03900c68c7724a12ab199668113f2227"
          ]
        },
        "id": "NlaL-VEj7rLi",
        "outputId": "82cef894-8ee4-4daf-feae-225bd5546379"
      },
      "source": [
        "env = gym.make(\"CartPole-v200\")\n",
        "agent = Agent(env, 2, 4, 16)\n",
        "\n",
        "for i in range(250):\n",
        "    agent.run_timesteps(500)\n",
        "    agent.train()\n",
        "        "
      ],
      "execution_count": 74,
      "outputs": [
        {
          "output_type": "display_data",
          "data": {
            "text/html": [
              "Finishing last run (ID:227ur98r) before initializing another..."
            ],
            "text/plain": [
              "<IPython.core.display.HTML object>"
            ]
          },
          "metadata": {
            "tags": []
          }
        },
        {
          "output_type": "display_data",
          "data": {
            "text/html": [
              "<br/>Waiting for W&B process to finish, PID 1398<br/>Program ended successfully."
            ],
            "text/plain": [
              "<IPython.core.display.HTML object>"
            ]
          },
          "metadata": {
            "tags": []
          }
        },
        {
          "output_type": "display_data",
          "data": {
            "application/vnd.jupyter.widget-view+json": {
              "model_id": "4763c0ceca294a6c86b30d79d55333e6",
              "version_minor": 0,
              "version_major": 2
            },
            "text/plain": [
              "VBox(children=(Label(value=' 0.00MB of 0.00MB uploaded (0.00MB deduped)\\r'), FloatProgress(value=1.0, max=1.0)…"
            ]
          },
          "metadata": {
            "tags": []
          }
        },
        {
          "output_type": "display_data",
          "data": {
            "text/html": [
              "Find user logs for this run at: <code>/content/wandb/run-20210714_181501-227ur98r/logs/debug.log</code>"
            ],
            "text/plain": [
              "<IPython.core.display.HTML object>"
            ]
          },
          "metadata": {
            "tags": []
          }
        },
        {
          "output_type": "display_data",
          "data": {
            "text/html": [
              "Find internal logs for this run at: <code>/content/wandb/run-20210714_181501-227ur98r/logs/debug-internal.log</code>"
            ],
            "text/plain": [
              "<IPython.core.display.HTML object>"
            ]
          },
          "metadata": {
            "tags": []
          }
        },
        {
          "output_type": "display_data",
          "data": {
            "text/html": [
              "<h3>Run summary:</h3><br/><style>\n",
              "    table.wandb td:nth-child(1) { padding: 0 10px; text-align: right }\n",
              "    </style><table class=\"wandb\">\n",
              "</table>"
            ],
            "text/plain": [
              "<IPython.core.display.HTML object>"
            ]
          },
          "metadata": {
            "tags": []
          }
        },
        {
          "output_type": "display_data",
          "data": {
            "text/html": [
              "Synced 4 W&B file(s), 1 media file(s), 0 artifact file(s) and 0 other file(s)"
            ],
            "text/plain": [
              "<IPython.core.display.HTML object>"
            ]
          },
          "metadata": {
            "tags": []
          }
        },
        {
          "output_type": "display_data",
          "data": {
            "text/html": [
              "\n",
              "                    <br/>Synced <strong style=\"color:#cdcd00\">denim-bush-52</strong>: <a href=\"https://wandb.ai/tnfru/cartpole/runs/227ur98r\" target=\"_blank\">https://wandb.ai/tnfru/cartpole/runs/227ur98r</a><br/>\n",
              "                "
            ],
            "text/plain": [
              "<IPython.core.display.HTML object>"
            ]
          },
          "metadata": {
            "tags": []
          }
        },
        {
          "output_type": "display_data",
          "data": {
            "text/html": [
              "...Successfully finished last run (ID:227ur98r). Initializing new run:<br/><br/>"
            ],
            "text/plain": [
              "<IPython.core.display.HTML object>"
            ]
          },
          "metadata": {
            "tags": []
          }
        },
        {
          "output_type": "display_data",
          "data": {
            "text/html": [
              "\n",
              "                Tracking run with wandb version 0.10.33<br/>\n",
              "                Syncing run <strong style=\"color:#cdcd00\">apricot-butterfly-53</strong> to <a href=\"https://wandb.ai\" target=\"_blank\">Weights & Biases</a> <a href=\"https://docs.wandb.com/integrations/jupyter.html\" target=\"_blank\">(Documentation)</a>.<br/>\n",
              "                Project page: <a href=\"https://wandb.ai/tnfru/cartpole\" target=\"_blank\">https://wandb.ai/tnfru/cartpole</a><br/>\n",
              "                Run page: <a href=\"https://wandb.ai/tnfru/cartpole/runs/2b8pzxwt\" target=\"_blank\">https://wandb.ai/tnfru/cartpole/runs/2b8pzxwt</a><br/>\n",
              "                Run data is saved locally in <code>/content/wandb/run-20210714_181848-2b8pzxwt</code><br/><br/>\n",
              "            "
            ],
            "text/plain": [
              "<IPython.core.display.HTML object>"
            ]
          },
          "metadata": {
            "tags": []
          }
        }
      ]
    },
    {
      "cell_type": "code",
      "metadata": {
        "id": "bMrCeHaC7rLn"
      },
      "source": [
        "for _ in range(20):\n",
        "    agent.run_episode(True)"
      ],
      "execution_count": null,
      "outputs": []
    },
    {
      "cell_type": "code",
      "metadata": {
        "id": "H25CUxM27rLp"
      },
      "source": [
        "env.close()"
      ],
      "execution_count": null,
      "outputs": []
    },
    {
      "cell_type": "code",
      "metadata": {
        "id": "qbWGxlTI7rLp"
      },
      "source": [
        ""
      ],
      "execution_count": null,
      "outputs": []
    }
  ]
}