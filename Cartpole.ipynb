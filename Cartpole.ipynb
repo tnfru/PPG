{
  "nbformat": 4,
  "nbformat_minor": 0,
  "metadata": {
    "kernelspec": {
      "display_name": "Python 3 (ipykernel)",
      "language": "python",
      "name": "python3"
    },
    "language_info": {
      "codemirror_mode": {
        "name": "ipython",
        "version": 3
      },
      "file_extension": ".py",
      "mimetype": "text/x-python",
      "name": "python",
      "nbconvert_exporter": "python",
      "pygments_lexer": "ipython3",
      "version": "3.9.5"
    },
    "colab": {
      "name": "Cartpole.ipynb",
      "provenance": [],
      "include_colab_link": true
    },
    "accelerator": "GPU"
  },
  "cells": [
    {
      "cell_type": "markdown",
      "metadata": {
        "id": "view-in-github",
        "colab_type": "text"
      },
      "source": [
        "<a href=\"https://colab.research.google.com/github/tnfru/PPO/blob/master/Cartpole.ipynb\" target=\"_parent\"><img src=\"https://colab.research.google.com/assets/colab-badge.svg\" alt=\"Open In Colab\"/></a>"
      ]
    },
    {
      "cell_type": "code",
      "metadata": {
        "id": "Saz1s_xX7rLJ"
      },
      "source": [
        "import gym\n",
        "import numpy as np\n",
        "import torch\n",
        "import torch.nn as nn\n",
        "import torch.optim as optim\n",
        "from torch.distributions.categorical import Categorical\n",
        "from collections import deque\n",
        "from torch.utils.data import DataLoader\n",
        "from tqdm.notebook import trange\n",
        "import wandb"
      ],
      "execution_count": 1,
      "outputs": []
    },
    {
      "cell_type": "code",
      "metadata": {
        "id": "aQ4PsrWU7rLO"
      },
      "source": [
        "gym.envs.register(\n",
        "    id='CartPole-v200',\n",
        "    entry_point='gym.envs.classic_control:CartPoleEnv',\n",
        "    max_episode_steps=200,\n",
        "    reward_threshold=195.0,\n",
        ")"
      ],
      "execution_count": 2,
      "outputs": []
    },
    {
      "cell_type": "code",
      "metadata": {
        "id": "UBLmj5-47rLQ"
      },
      "source": [
        "def rewards_to_go(rewards, discount_factor=0.99):\n",
        "    # from https://spinningup.openai.com/en/latest/spinningup/rl_intro3.html\n",
        "    \n",
        "    r2g = []\n",
        "    discounted_reward = 0\n",
        "    \n",
        "    for reward in reversed(rewards):\n",
        "        discounted_reward = reward + discount_factor * discounted_reward\n",
        "        r2g.insert(0, discounted_reward)\n",
        "    \n",
        "    return torch.tensor(r2g, dtype=torch.float)"
      ],
      "execution_count": 3,
      "outputs": []
    },
    {
      "cell_type": "code",
      "metadata": {
        "id": "5EZDhcrb7rLR"
      },
      "source": [
        "def compute_advantage(rewards, state_values):\n",
        "    advantages = rewards - state_values\n",
        "    return normalize(advantages)\n",
        "    #return advantages"
      ],
      "execution_count": 4,
      "outputs": []
    },
    {
      "cell_type": "code",
      "metadata": {
        "id": "QUCWgH897rLR"
      },
      "source": [
        "def normalize(x):\n",
        "    if torch.isnan(x.std()):\n",
        "        return x - x.mean(0)\n",
        "    \n",
        "    return (x - x.mean(0)) / (x.std(0) + 1e-8)"
      ],
      "execution_count": 5,
      "outputs": []
    },
    {
      "cell_type": "code",
      "metadata": {
        "id": "c3-FBEyb7rLS"
      },
      "source": [
        "class Trajectory(torch.utils.data.Dataset):\n",
        "    def __init__(self):\n",
        "        self.states = []\n",
        "        self.log_probs = []\n",
        "        self.actions = []\n",
        "        self.rewards = []\n",
        "        self.dones = []\n",
        "\n",
        "    def __len__(self):\n",
        "        return len(self.states)\n",
        "\n",
        "    def append_trajectory(self, states, actions, rewards, dones, log_probs):\n",
        "        self.states.extend(states)\n",
        "        self.actions.extend(actions)\n",
        "        self.rewards.extend(rewards)\n",
        "        self.dones.extend(dones)\n",
        "        self.log_probs.extend(log_probs)\n",
        "    \n",
        "    def convert_to_expected_return(self, rewards, discount_factor):\n",
        "        # from https://spinningup.openai.com/en/latest/spinningup/rl_intro3.html\n",
        "        r2g = []\n",
        "        discounted_reward = 0\n",
        "\n",
        "        for reward in reversed(rewards):\n",
        "            discounted_reward = reward + discount_factor * discounted_reward\n",
        "            r2g.insert(0, discounted_reward)\n",
        "\n",
        "        return torch.tensor(r2g, dtype=torch.float)\n",
        "        \n",
        "    def fix_datatypes(self):\n",
        "        self.states = torch.stack(self.states)\n",
        "        self.actions = torch.tensor(self.actions, dtype=torch.long)\n",
        "        self.dones = torch.tensor(self.dones, dtype=torch.int)\n",
        "        self.log_probs = torch.tensor(self.log_probs, dtype=torch.float)\n",
        "        \n",
        "\n",
        "    def store_timestep(self, state, action, reward, done, log_prob):\n",
        "        self.states.append(state)\n",
        "        self.actions.append(action)\n",
        "        self.rewards.append(reward)\n",
        "        self.dones.append(done)\n",
        "        self.log_probs.append(log_prob)\n",
        "        \n",
        "    def clear_memory(self):\n",
        "        self.states = []\n",
        "        self.log_probs = []\n",
        "        self.actions = []\n",
        "        self.rewards = []\n",
        "        self.dones = []\n",
        "    \n",
        "    def __getitem__(self, index):\n",
        "        state = self.states[index]\n",
        "        action = self.actions[index]\n",
        "        reward = self.rewards[index]\n",
        "        done = self.dones[index]\n",
        "        log_prob = self.log_probs[index]\n",
        "        \n",
        "        return state, action, reward, done, log_prob"
      ],
      "execution_count": 6,
      "outputs": []
    },
    {
      "cell_type": "code",
      "metadata": {
        "id": "bQx3LNwy7rLU"
      },
      "source": [
        "class Agent:\n",
        "    def __init__(self, env, action_dim, state_dim, batch_size, clip_ratio=0.2):\n",
        "        self.env = env\n",
        "        self.actor = Policy(action_dim, state_dim)\n",
        "        self.critic = CriticNet(state_dim)\n",
        "        self.trajectories = deque(maxlen=2)\n",
        "        self.discount_factor = 0.99\n",
        "        self.batch_size = batch_size\n",
        "        self.clip_ratio = clip_ratio\n",
        "        self.actor_opt = optim.Adam(self.actor.parameters(), lr=1e-3)\n",
        "        self.critic_opt = optim.Adam(self.critic.parameters(), lr=5e-2)\n",
        "        self.critic_loss = nn.MSELoss()\n",
        "        self.device = torch.device('cuda:0' if torch.cuda.is_available() else 'cpu')\n",
        "        self.train_iterations = 1\n",
        "        \n",
        "        # initialize logging\n",
        "        wandb.init(project=\"cartpole\")\n",
        "        wandb.watch(self.actor, log=\"all\")\n",
        "        wandb.watch(self.critic, log=\"all\")\n",
        "        wandb.run.name = 'all_train_' + str(self.train_iterations) + '_' + wandb.run.name \n",
        "        \n",
        "    def get_action(self, obs):\n",
        "        action_probs = self.actor(obs)\n",
        "\n",
        "        action_dist = Categorical(logits=action_probs)\n",
        "        action = action_dist.sample()\n",
        "        \n",
        "        return action.item(), action_dist.log_prob(action).item()\n",
        "    \n",
        "    def train(self):\n",
        "        #trajectory = self.trajectories[-1]\n",
        "        #for trajectory in self.trajectories:\n",
        "        for i in range(self.train_iterations):\n",
        "            loader = DataLoader(self.trajectory, batch_size=self.batch_size, shuffle=True, pin_memory=True,\n",
        "                               drop_last=True)\n",
        "            \n",
        "            for states, actions, rewards, dones, old_log_probs in loader:\n",
        "                states = states.to(self.device)\n",
        "                actions = actions.to(self.device)\n",
        "                rewards = rewards.to(self.device)\n",
        "                old_log_probs = old_log_probs.to(self.device)\n",
        "                \n",
        "                state_values = self.critic(states)\n",
        "                state_values = state_values.squeeze()\n",
        "                advantages = compute_advantage(rewards, state_values.detach())\n",
        "                \n",
        "                action_probs = self.actor(states)\n",
        "                action_dist = Categorical(logits=action_probs)\n",
        "                log_probs = action_dist.log_prob(actions)\n",
        "                \n",
        "                # log trick for efficient computational graph during backprop\n",
        "                ratio = torch.exp(log_probs - old_log_probs)\n",
        "                \n",
        "                weighted_objective = advantages * ratio\n",
        "                clipped_objective = torch.clamp(ratio, 1 - self.clip_ratio, 1 + self.clip_ratio) * advantages\n",
        "                \n",
        "                actor_loss = -torch.min(weighted_objective, clipped_objective).mean()\n",
        "                critic_loss = self.critic_loss(state_values, rewards)\n",
        "                \n",
        "                self.actor_opt.zero_grad()\n",
        "                actor_loss.backward(retain_graph=True)\n",
        "                self.actor_opt.step()\n",
        "                \n",
        "                self.critic_opt.zero_grad()\n",
        "                critic_loss.backward()\n",
        "                self.critic_opt.step()\n",
        "                \n",
        "                wandb.log({'critic loss': critic_loss.mean()})\n",
        "                wandb.log({'avg state value': state_values.mean()})\n",
        "        \n",
        "    \n",
        "    def run_episode(self, trajectory=None, render=False):\n",
        "        observations = []\n",
        "        actions = []\n",
        "        rewards = []\n",
        "        dones = []\n",
        "        log_probs = []\n",
        "        \n",
        "        done = False\n",
        "        obs = self.env.reset()\n",
        "        \n",
        "        while not done:\n",
        "            if render:\n",
        "                self.env.render()\n",
        "\n",
        "            obs = torch.tensor(obs, dtype=torch.float, device=self.device)\n",
        "            action, log_prob = agent.get_action(obs)\n",
        "            obs = obs.cpu()\n",
        "            next_obs, reward, done, _ = self.env.step(action)\n",
        "            \n",
        "            observations.append(obs)\n",
        "            actions.append(action)\n",
        "            rewards.append(reward)\n",
        "            dones.append(done)\n",
        "            log_probs.append(log_prob)\n",
        "\n",
        "            # trajectory.store_timestep(obs, action, reward, done, log_prob)\n",
        "            obs = next_obs\n",
        "            \n",
        "        wandb.log({'reward': np.sum(rewards)})\n",
        "        \n",
        "        if trajectory is not None:\n",
        "            returns = trajectory.convert_to_expected_return(rewards, self.discount_factor)\n",
        "            trajectory.append_trajectory(observations, actions, returns, dones, log_probs)\n",
        "            #trajectory.fix_datatypes()\n",
        "            #self.trajectories.append(trajectory)\n",
        "            return trajectory\n",
        "\n",
        "\n",
        "    def run_timesteps(self, num_timesteps):\n",
        "        timesteps = 0\n",
        "        trajectory = Trajectory()\n",
        "\n",
        "        while len(trajectory) < num_timesteps:\n",
        "            trajectory = self.run_episode(trajectory)\n",
        "        trajectory.fix_datatypes()\n",
        "        self.trajectory = trajectory\n"
      ],
      "execution_count": 7,
      "outputs": []
    },
    {
      "cell_type": "code",
      "metadata": {
        "id": "Ci4r1s1E7rLW"
      },
      "source": [
        "class Policy(nn.Module):\n",
        "    def __init__(self, action_dim, state_dim):\n",
        "        super(Policy, self).__init__()\n",
        "        self.fc1 = nn.Sequential(\n",
        "            nn.Linear(state_dim, 64),\n",
        "            nn.ReLU()\n",
        "        )\n",
        "        \n",
        "        self.fc2 = nn.Sequential(\n",
        "            nn.Linear(64, 64),\n",
        "            nn.ReLU()\n",
        "        )\n",
        "        \n",
        "        self.fc3 = nn.Sequential(\n",
        "            nn.Linear(64, action_dim)\n",
        "        )\n",
        "        \n",
        "        self.device = torch.device('cuda:0' if torch.cuda.is_available() else 'cpu')\n",
        "        self.to(self.device)\n",
        "        \n",
        "    def forward(self, x):\n",
        "        x = self.fc1(x)\n",
        "        x = self.fc2(x)\n",
        "        x = self.fc3(x)\n",
        "        \n",
        "        return x"
      ],
      "execution_count": 8,
      "outputs": []
    },
    {
      "cell_type": "code",
      "metadata": {
        "id": "-pWLmufu7rLX"
      },
      "source": [
        "class CriticNet(nn.Module):\n",
        "    def __init__(self, state_dim):\n",
        "        super(CriticNet, self).__init__()\n",
        "        self.fc1 = nn.Sequential(\n",
        "            nn.Linear(state_dim, 64),\n",
        "            nn.ReLU()\n",
        "        )\n",
        "        \n",
        "        self.fc2 = nn.Sequential(\n",
        "            nn.Linear(64, 64),\n",
        "            nn.ReLU()\n",
        "        )\n",
        "        \n",
        "        self.fc3 = nn.Sequential(\n",
        "            nn.Linear(64, 1)\n",
        "        )       \n",
        "        \n",
        "        self.device = torch.device('cuda:0' if torch.cuda.is_available() else 'cpu')\n",
        "        self.to(self.device)\n",
        "        \n",
        "    def forward(self, x):\n",
        "        x = self.fc1(x)\n",
        "        x = self.fc2(x)\n",
        "        x = self.fc3(x)\n",
        "        \n",
        "        return x"
      ],
      "execution_count": 9,
      "outputs": []
    },
    {
      "cell_type": "code",
      "metadata": {
        "colab": {
          "base_uri": "https://localhost:8080/",
          "height": 139
        },
        "id": "NlaL-VEj7rLi",
        "outputId": "48abf2bf-5755-491e-9f35-d1428fa40bb8"
      },
      "source": [
        "env = gym.make(\"CartPole-v200\")\n",
        "agent = Agent(env, 2, 4, 16)\n",
        "\n",
        "for i in range(250):\n",
        "    agent.run_timesteps(500)\n",
        "    agent.train()\n",
        "        "
      ],
      "execution_count": 10,
      "outputs": [
        {
          "output_type": "stream",
          "text": [
            "\u001b[34m\u001b[1mwandb\u001b[0m: Currently logged in as: \u001b[33mtnfru\u001b[0m (use `wandb login --relogin` to force relogin)\n"
          ],
          "name": "stderr"
        },
        {
          "output_type": "display_data",
          "data": {
            "text/html": [
              "\n",
              "                Tracking run with wandb version 0.10.33<br/>\n",
              "                Syncing run <strong style=\"color:#cdcd00\">frosty-river-54</strong> to <a href=\"https://wandb.ai\" target=\"_blank\">Weights & Biases</a> <a href=\"https://docs.wandb.com/integrations/jupyter.html\" target=\"_blank\">(Documentation)</a>.<br/>\n",
              "                Project page: <a href=\"https://wandb.ai/tnfru/cartpole\" target=\"_blank\">https://wandb.ai/tnfru/cartpole</a><br/>\n",
              "                Run page: <a href=\"https://wandb.ai/tnfru/cartpole/runs/2jvfqszw\" target=\"_blank\">https://wandb.ai/tnfru/cartpole/runs/2jvfqszw</a><br/>\n",
              "                Run data is saved locally in <code>/content/wandb/run-20210714_183129-2jvfqszw</code><br/><br/>\n",
              "            "
            ],
            "text/plain": [
              "<IPython.core.display.HTML object>"
            ]
          },
          "metadata": {
            "tags": []
          }
        }
      ]
    },
    {
      "cell_type": "code",
      "metadata": {
        "colab": {
          "base_uri": "https://localhost:8080/",
          "height": 307
        },
        "id": "bMrCeHaC7rLn",
        "outputId": "a875f41f-ab4a-4f03-9e33-ad77a159bc47"
      },
      "source": [
        "for _ in range(20):\n",
        "    agent.run_episode(True)"
      ],
      "execution_count": 11,
      "outputs": [
        {
          "output_type": "error",
          "ename": "AttributeError",
          "evalue": "ignored",
          "traceback": [
            "\u001b[0;31m---------------------------------------------------------------------------\u001b[0m",
            "\u001b[0;31mAttributeError\u001b[0m                            Traceback (most recent call last)",
            "\u001b[0;32m<ipython-input-11-fb6ba2d5059a>\u001b[0m in \u001b[0;36m<module>\u001b[0;34m()\u001b[0m\n\u001b[1;32m      1\u001b[0m \u001b[0;32mfor\u001b[0m \u001b[0m_\u001b[0m \u001b[0;32min\u001b[0m \u001b[0mrange\u001b[0m\u001b[0;34m(\u001b[0m\u001b[0;36m20\u001b[0m\u001b[0;34m)\u001b[0m\u001b[0;34m:\u001b[0m\u001b[0;34m\u001b[0m\u001b[0;34m\u001b[0m\u001b[0m\n\u001b[0;32m----> 2\u001b[0;31m     \u001b[0magent\u001b[0m\u001b[0;34m.\u001b[0m\u001b[0mrun_episode\u001b[0m\u001b[0;34m(\u001b[0m\u001b[0;32mTrue\u001b[0m\u001b[0;34m)\u001b[0m\u001b[0;34m\u001b[0m\u001b[0;34m\u001b[0m\u001b[0m\n\u001b[0m",
            "\u001b[0;32m<ipython-input-7-50643238425d>\u001b[0m in \u001b[0;36mrun_episode\u001b[0;34m(self, trajectory, render)\u001b[0m\n\u001b[1;32m    101\u001b[0m \u001b[0;34m\u001b[0m\u001b[0m\n\u001b[1;32m    102\u001b[0m         \u001b[0;32mif\u001b[0m \u001b[0mtrajectory\u001b[0m \u001b[0;32mis\u001b[0m \u001b[0;32mnot\u001b[0m \u001b[0;32mNone\u001b[0m\u001b[0;34m:\u001b[0m\u001b[0;34m\u001b[0m\u001b[0;34m\u001b[0m\u001b[0m\n\u001b[0;32m--> 103\u001b[0;31m             \u001b[0mreturns\u001b[0m \u001b[0;34m=\u001b[0m \u001b[0mtrajectory\u001b[0m\u001b[0;34m.\u001b[0m\u001b[0mconvert_to_expected_return\u001b[0m\u001b[0;34m(\u001b[0m\u001b[0mrewards\u001b[0m\u001b[0;34m,\u001b[0m \u001b[0mself\u001b[0m\u001b[0;34m.\u001b[0m\u001b[0mdiscount_factor\u001b[0m\u001b[0;34m)\u001b[0m\u001b[0;34m\u001b[0m\u001b[0;34m\u001b[0m\u001b[0m\n\u001b[0m\u001b[1;32m    104\u001b[0m             \u001b[0mtrajectory\u001b[0m\u001b[0;34m.\u001b[0m\u001b[0mappend_trajectory\u001b[0m\u001b[0;34m(\u001b[0m\u001b[0mobservations\u001b[0m\u001b[0;34m,\u001b[0m \u001b[0mactions\u001b[0m\u001b[0;34m,\u001b[0m \u001b[0mreturns\u001b[0m\u001b[0;34m,\u001b[0m \u001b[0mdones\u001b[0m\u001b[0;34m,\u001b[0m \u001b[0mlog_probs\u001b[0m\u001b[0;34m)\u001b[0m\u001b[0;34m\u001b[0m\u001b[0;34m\u001b[0m\u001b[0m\n\u001b[1;32m    105\u001b[0m             \u001b[0;31m#trajectory.fix_datatypes()\u001b[0m\u001b[0;34m\u001b[0m\u001b[0;34m\u001b[0m\u001b[0;34m\u001b[0m\u001b[0m\n",
            "\u001b[0;31mAttributeError\u001b[0m: 'bool' object has no attribute 'convert_to_expected_return'"
          ]
        }
      ]
    },
    {
      "cell_type": "code",
      "metadata": {
        "id": "H25CUxM27rLp"
      },
      "source": [
        "env.close()"
      ],
      "execution_count": null,
      "outputs": []
    },
    {
      "cell_type": "code",
      "metadata": {
        "id": "qbWGxlTI7rLp"
      },
      "source": [
        ""
      ],
      "execution_count": null,
      "outputs": []
    }
  ]
}