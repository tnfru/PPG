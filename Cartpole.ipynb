{
 "cells": [
  {
   "cell_type": "code",
   "execution_count": 14,
   "metadata": {},
   "outputs": [],
   "source": [
    "import gym\n",
    "import numpy as np\n",
    "import torch\n",
    "import torch.nn as nn\n",
    "import torch.optim as optim\n",
    "from torch.distributions.categorical import Categorical\n",
    "from collections import deque"
   ]
  },
  {
   "cell_type": "code",
   "execution_count": 4,
   "metadata": {},
   "outputs": [],
   "source": [
    "def run_episode(env, agent):\n",
    "    done = False\n",
    "    obs = env.reset()\n",
    "\n",
    "    while not done:\n",
    "        env.render()\n",
    "        if agent is None:\n",
    "            action = env.action_space.sample()\n",
    "        else:\n",
    "            obs = torch.from_numpy(obs).float()\n",
    "            action = agent.get_action(obs)\n",
    "            \n",
    "        next_obs, reward, done, _ = env.step(action)\n",
    "        obs = next_obs\n",
    "        "
   ]
  },
  {
   "cell_type": "code",
   "execution_count": 5,
   "metadata": {},
   "outputs": [
    {
     "ename": "NameError",
     "evalue": "name 'Agent' is not defined",
     "output_type": "error",
     "traceback": [
      "\u001b[0;31m---------------------------------------------------------------------------\u001b[0m",
      "\u001b[0;31mNameError\u001b[0m                                 Traceback (most recent call last)",
      "\u001b[0;32m<ipython-input-5-e62db9ed8364>\u001b[0m in \u001b[0;36m<module>\u001b[0;34m\u001b[0m\n\u001b[0;32m----> 1\u001b[0;31m \u001b[0magent\u001b[0m \u001b[0;34m=\u001b[0m \u001b[0mAgent\u001b[0m\u001b[0;34m(\u001b[0m\u001b[0menv\u001b[0m\u001b[0;34m,\u001b[0m \u001b[0;36m2\u001b[0m\u001b[0;34m,\u001b[0m \u001b[0;36m4\u001b[0m\u001b[0;34m)\u001b[0m\u001b[0;34m\u001b[0m\u001b[0;34m\u001b[0m\u001b[0m\n\u001b[0m\u001b[1;32m      2\u001b[0m \u001b[0;32mfor\u001b[0m \u001b[0mi\u001b[0m \u001b[0;32min\u001b[0m \u001b[0mrange\u001b[0m\u001b[0;34m(\u001b[0m\u001b[0;36m5\u001b[0m\u001b[0;34m)\u001b[0m\u001b[0;34m:\u001b[0m\u001b[0;34m\u001b[0m\u001b[0;34m\u001b[0m\u001b[0m\n\u001b[1;32m      3\u001b[0m     \u001b[0mrun_episode\u001b[0m\u001b[0;34m(\u001b[0m\u001b[0menv\u001b[0m\u001b[0;34m,\u001b[0m \u001b[0magent\u001b[0m\u001b[0;34m)\u001b[0m\u001b[0;34m\u001b[0m\u001b[0;34m\u001b[0m\u001b[0m\n\u001b[1;32m      4\u001b[0m     \u001b[0mprint\u001b[0m\u001b[0;34m(\u001b[0m\u001b[0;34mf'Episode {i} done'\u001b[0m\u001b[0;34m)\u001b[0m\u001b[0;34m\u001b[0m\u001b[0;34m\u001b[0m\u001b[0m\n\u001b[1;32m      5\u001b[0m \u001b[0menv\u001b[0m\u001b[0;34m.\u001b[0m\u001b[0mclose\u001b[0m\u001b[0;34m(\u001b[0m\u001b[0;34m)\u001b[0m\u001b[0;34m\u001b[0m\u001b[0;34m\u001b[0m\u001b[0m\n",
      "\u001b[0;31mNameError\u001b[0m: name 'Agent' is not defined"
     ]
    }
   ],
   "source": [
    "agent = Agent(env, 2, 4)\n",
    "for i in range(5):\n",
    "    run_episode(env, agent)\n",
    "    print(f'Episode {i} done')\n",
    "env.close()"
   ]
  },
  {
   "cell_type": "code",
   "execution_count": 6,
   "metadata": {},
   "outputs": [],
   "source": [
    "env.close()"
   ]
  },
  {
   "cell_type": "code",
   "execution_count": 7,
   "metadata": {},
   "outputs": [],
   "source": [
    "def rewards_to_go(rewards, discount_factor=0.99):\n",
    "    # from https://spinningup.openai.com/en/latest/spinningup/rl_intro3.html\n",
    "    \n",
    "    r2g = []\n",
    "    discounted_reward = 0\n",
    "    \n",
    "    for reward in reversed(rewards):\n",
    "        discounted_reward = reward + discount_factor * discounted_reward\n",
    "        r2g.insert(0, discounted_reward)\n",
    "    \n",
    "    return torch.tensor(r2g, dtype=torch.float)"
   ]
  },
  {
   "cell_type": "code",
   "execution_count": 8,
   "metadata": {},
   "outputs": [],
   "source": [
    "def compute_advantage(rewards, state_values):\n",
    "    advantages = rewards - state_values\n",
    "    return normalize(advantages)"
   ]
  },
  {
   "cell_type": "code",
   "execution_count": 9,
   "metadata": {},
   "outputs": [],
   "source": [
    "def normalize(x):\n",
    "    return (x - x.mean(0)) / (x.std(0) + 1e-7)"
   ]
  },
  {
   "cell_type": "code",
   "execution_count": 54,
   "metadata": {},
   "outputs": [],
   "source": [
    "class Trajectory(torch.utils.data.Dataset):\n",
    "    def __init__(self):\n",
    "        self.states = []\n",
    "        self.log_probs = []\n",
    "        self.actions = []\n",
    "        self.rewards = []\n",
    "        self.dones = []\n",
    "\n",
    "    def __len__(self):\n",
    "        return len(self.states)\n",
    "    \n",
    "    def convert_rewards_to_go(self, discount_factor=0.99):\n",
    "        # from https://spinningup.openai.com/en/latest/spinningup/rl_intro3.html\n",
    "        r2g = []\n",
    "        discounted_reward = 0\n",
    "\n",
    "        for reward in reversed(self.rewards):\n",
    "            discounted_reward = reward + discount_factor * discounted_reward\n",
    "            r2g.insert(0, discounted_reward)\n",
    "\n",
    "        self.rewards = r2g\n",
    "\n",
    "    def store_timestep(self, state, action, reward, done, log_prob):\n",
    "        self.states.append(state)\n",
    "        self.actions.append(action)\n",
    "        self.rewards.append(reward)\n",
    "        self.dones.append(done)\n",
    "        self.log_probs.append(log_prob)\n",
    "        \n",
    "    def clear_memory(self):\n",
    "        self.states = []\n",
    "        self.log_probs = []\n",
    "        self.state_values = []\n",
    "        self.actions = []\n",
    "        self.rewards = []\n",
    "        self.dones = []\n",
    "    \n",
    "    def __getitem__(self, index):\n",
    "        state = self.states[index]\n",
    "        action = self.actions[index]\n",
    "        reward = self.rewards[index]\n",
    "        done = self.dones[index]\n",
    "        log_prob = self.log_probs[index]\n",
    "        state_value = self.state_values[index]\n",
    "        \n",
    "        return state, action, reward, done, log_prob, state_value"
   ]
  },
  {
   "cell_type": "code",
   "execution_count": 55,
   "metadata": {},
   "outputs": [],
   "source": [
    "class Agent:\n",
    "    def __init__(self, env, action_dim, state_dim, batch_size):\n",
    "        self.env = env\n",
    "        self.actor = Policy(action_dim, state_dim)\n",
    "        self.trajectories = deque(maxlen=5)\n",
    "        self.discount_factor = 0.99\n",
    "        \n",
    "    def get_action(self, obs):\n",
    "        action_probs = self.actor(obs)\n",
    "        action_dist = Categorical(logits=action_probs)\n",
    "        action = action_dist.sample()\n",
    "        \n",
    "        return action.item(), action_dist.log_prob(action)\n",
    "    \n",
    "    def train(self):\n",
    "        pass\n",
    "    \n",
    "    def run_episode(self, render=False):\n",
    "        trajectory = Trajectory()\n",
    "        \n",
    "        done = False\n",
    "        obs = self.env.reset()\n",
    "        \n",
    "        while not done:\n",
    "            if render:\n",
    "                self.env.render()\n",
    "\n",
    "            obs = torch.from_numpy(obs).float()\n",
    "            action, log_prob = agent.get_action(obs)\n",
    "            next_obs, reward, done, _ = self.env.step(action)\n",
    "            \n",
    "            trajectory.store_timestep(obs, action, reward, done, log_prob)\n",
    "            obs = next_obs\n",
    "            \n",
    "        trajectory.convert_rewards_to_go()\n",
    "        self.trajectories.append(trajectory)\n",
    "        "
   ]
  },
  {
   "cell_type": "code",
   "execution_count": 56,
   "metadata": {},
   "outputs": [],
   "source": [
    "class Policy(nn.Module):\n",
    "    def __init__(self, action_dim, state_dim):\n",
    "        super(Policy, self).__init__()\n",
    "        self.fc1 = nn.Sequential(\n",
    "            nn.Linear(state_dim, 100),\n",
    "            nn.ReLU()\n",
    "        )\n",
    "        \n",
    "        self.fc2 = nn.Sequential(\n",
    "            nn.Linear(100, action_dim)\n",
    "        )        \n",
    "        \n",
    "    def forward(self, x):\n",
    "        x = self.fc1(x)\n",
    "        x = self.fc2(x)\n",
    "        \n",
    "        return x"
   ]
  },
  {
   "cell_type": "code",
   "execution_count": 57,
   "metadata": {},
   "outputs": [],
   "source": [
    "env = gym.make(\"CartPole-v0\")"
   ]
  },
  {
   "cell_type": "code",
   "execution_count": 58,
   "metadata": {},
   "outputs": [],
   "source": [
    "agent = Agent(env, 2,4,16)"
   ]
  },
  {
   "cell_type": "code",
   "execution_count": 59,
   "metadata": {},
   "outputs": [],
   "source": [
    "agent.run_episode()"
   ]
  },
  {
   "cell_type": "code",
   "execution_count": 62,
   "metadata": {},
   "outputs": [
    {
     "data": {
      "text/plain": [
       "[32.42709509397166,\n",
       " 31.744540498961268,\n",
       " 31.05509141309219,\n",
       " 30.358678195042614,\n",
       " 29.655230500043047,\n",
       " 28.944677272770754,\n",
       " 28.22694674017248,\n",
       " 27.501966404214627,\n",
       " 26.76966303456023,\n",
       " 26.02996266117195,\n",
       " 25.282790566840355,\n",
       " 24.528071279636723,\n",
       " 23.76572856528962,\n",
       " 22.995685419484467,\n",
       " 22.21786406008532,\n",
       " 21.4321859192781,\n",
       " 20.638571635634445,\n",
       " 19.8369410460954,\n",
       " 19.027213177874142,\n",
       " 18.209306240276913,\n",
       " 17.383137616441328,\n",
       " 16.54862385499124,\n",
       " 15.705680661607312,\n",
       " 14.854222890512437,\n",
       " 13.994164535871148,\n",
       " 13.12541872310217,\n",
       " 12.247897700103202,\n",
       " 11.361512828387072,\n",
       " 10.466174574128356,\n",
       " 9.561792499119552,\n",
       " 8.64827525163591,\n",
       " 7.72553055720799,\n",
       " 6.793465209301,\n",
       " 5.8519850599,\n",
       " 4.90099501,\n",
       " 3.9403989999999998,\n",
       " 2.9701,\n",
       " 1.99,\n",
       " 1.0]"
      ]
     },
     "execution_count": 62,
     "metadata": {},
     "output_type": "execute_result"
    }
   ],
   "source": [
    "agent.trajectories[0].rewards"
   ]
  },
  {
   "cell_type": "code",
   "execution_count": null,
   "metadata": {},
   "outputs": [],
   "source": []
  }
 ],
 "metadata": {
  "kernelspec": {
   "display_name": "Python 3",
   "language": "python",
   "name": "python3"
  },
  "language_info": {
   "codemirror_mode": {
    "name": "ipython",
    "version": 3
   },
   "file_extension": ".py",
   "mimetype": "text/x-python",
   "name": "python",
   "nbconvert_exporter": "python",
   "pygments_lexer": "ipython3",
   "version": "3.8.8"
  }
 },
 "nbformat": 4,
 "nbformat_minor": 4
}
