{
 "cells": [
  {
   "cell_type": "code",
   "execution_count": 3,
   "id": "ba87a1bb",
   "metadata": {},
   "outputs": [
    {
     "name": "stderr",
     "output_type": "stream",
     "text": [
      "/home/lars/code/ba_env/lib/python3.8/site-packages/supersuit/__init__.py:20: UserWarning: You're using SuperSuit 3.0, released 7/7/21. The entire codebase has been rewritten or refactored as part of this release. While we've tested it thoroughly, please ensure everything you're doing still works properly and report any issues at https://github.com/PettingZoo-Team/SuperSuit. This warning will be removed 2 months after release.\n",
      "  warnings.warn(\"You're using SuperSuit 3.0, released 7/7/21. The entire codebase has been rewritten or refactored as part of this release. While we've tested it thoroughly, please ensure everything you're doing still works properly and report any issues at https://github.com/PettingZoo-Team/SuperSuit. This warning will be removed 2 months after release.\")\n"
     ]
    }
   ],
   "source": [
    "import ale_py # necessary for gym enviornment creation\n",
    "import gym\n",
    "import time\n",
    "import torch as T\n",
    "import torch.nn as nn\n",
    "import torch.nn.functional as F\n",
    "import matplotlib.pyplot as plt\n",
    "import kornia as K\n",
    "import numpy as np\n",
    "import einops\n",
    "from einops.layers.torch import Rearrange\n",
    "from supersuit import frame_stack_v1, resize_v0, clip_reward_v0"
   ]
  },
  {
   "cell_type": "code",
   "execution_count": 4,
   "id": "fd89fcb8",
   "metadata": {},
   "outputs": [],
   "source": [
    "FRAMES_TO_STACK = 4\n",
    "FRAMES_TO_SKIP = 4\n",
    "PAD_SIZE = 4\n",
    "\n",
    "# TODO Add seed\n",
    "# TODO Terminal on loss of life\n",
    "# TODO compare Adam with LARS optimizer\n",
    "\n",
    "X_DIM = 84\n",
    "Y_DIM = 84\n",
    "\n",
    "rng = np.random.default_rng()"
   ]
  },
  {
   "cell_type": "code",
   "execution_count": 5,
   "id": "289e37df",
   "metadata": {},
   "outputs": [],
   "source": [
    "def preprocess(img):\n",
    "    img = T.from_numpy(img) / 255\n",
    "    #TODO do this after transformation \n",
    "    #https://theaisummer.com/self-supervised-representation-learning-computer-vision/\n",
    "    #TODO norm to running mean of channel\n",
    "    \n",
    "    if len(img.shape) == 3: # if no fourth dim, batch size is missing\n",
    "    #    img = img.unsqueeze(0)\n",
    "        img = einops.rearrange(img, 'h w c -> c h w')\n",
    "        \n",
    "    else:\n",
    "        img = einops.rearrange(img, 'b h w c -> b c h w')\n",
    "    return img"
   ]
  },
  {
   "cell_type": "code",
   "execution_count": 6,
   "id": "3ad0c8cf",
   "metadata": {},
   "outputs": [],
   "source": [
    "def plot_state(state, big=False):\n",
    "    fig = plt.figure(figsize=(36,18))\n",
    "    if big:\n",
    "        plt.imshow(state[0][0], cmap='gray');\n",
    "        return\n",
    "    \n",
    "    for i in range(state.shape[1]):\n",
    "        fig.add_subplot(1, FRAMES_TO_STACK, i + 1)\n",
    "        plt.imshow(state[0][i], cmap='gray');"
   ]
  },
  {
   "cell_type": "code",
   "execution_count": 7,
   "id": "521e7047",
   "metadata": {
    "scrolled": true
   },
   "outputs": [],
   "source": [
    "def create_env(name='MsPacman', render=None):\n",
    "    env = gym.make('ALE/' + name + '-v5',\n",
    "                    obs_type='grayscale',             # ram | rgb | grayscale\n",
    "                    frameskip=FRAMES_TO_SKIP,         # frame skip\n",
    "                    mode=0,                           # game mode, see Machado et al. 2018\n",
    "                    difficulty=0,                     # game difficulty, see Machado et al. 2018\n",
    "                    repeat_action_probability=0.25,   # Sticky action probability\n",
    "                    full_action_space=True,           # Use all actions\n",
    "                    render_mode=render                # None | human | rgb_array\n",
    "    )\n",
    "\n",
    "    env = clip_reward_v0(env, lower_bound=-1, upper_bound=1)\n",
    "    env = resize_v0(env, X_DIM, Y_DIM, linear_interp=True)\n",
    "    env = frame_stack_v1(env, FRAMES_TO_STACK)\n",
    "    \n",
    "    return env"
   ]
  },
  {
   "cell_type": "code",
   "execution_count": 8,
   "id": "9041e5e4",
   "metadata": {},
   "outputs": [],
   "source": [
    "def run_episode(env, early_break=False):\n",
    "    done = False\n",
    "    s = env.reset()\n",
    "    i = 0\n",
    "    rewards = []\n",
    "    states = []\n",
    "\n",
    "    while not done:\n",
    "        action = env.action_space.sample()\n",
    "        s, r, done, _ = env.step(action)\n",
    "\n",
    "        rewards.append(r)\n",
    "        s = preprocess(s)\n",
    "        states.append(s)\n",
    "        \n",
    "        i += 1\n",
    "        if early_break and i == 100:\n",
    "            env.close()            \n",
    "            return s\n",
    "    \n",
    "    env.close()\n",
    "    return states"
   ]
  },
  {
   "cell_type": "code",
   "execution_count": 9,
   "id": "9d220259",
   "metadata": {},
   "outputs": [],
   "source": [
    "class ContrastiveLearner(nn.Module):\n",
    "    def __init__(self, stacked_frames, hidden_dim=1024, out_dim=15):\n",
    "        #TODO spectral normalization (?)\n",
    "        super(ContrastiveLearner, self).__init__()\n",
    "        \n",
    "        self.conv = nn.Sequential(\n",
    "            nn.Conv2d(stacked_frames, 32, 8, stride=4),\n",
    "            nn.ELU(),\n",
    "            nn.Conv2d(32, 64, 4, stride=2),\n",
    "            nn.ELU(),\n",
    "            nn.Conv2d(64, 64, 3),\n",
    "            nn.ELU(),\n",
    "            Rearrange('b c h w -> b (c h w)')\n",
    "        )\n",
    "                \n",
    "        self.fc = nn.Sequential(\n",
    "            nn.Linear(3136, hidden_dim), # 3136 is output dim after conv\n",
    "            nn.LayerNorm(hidden_dim),\n",
    "            nn.Tanh(),\n",
    "            nn.Linear(hidden_dim, out_dim)    \n",
    "        )   \n",
    "        \n",
    "    def forward(self, x):\n",
    "        return self.conv(x)\n",
    "    \n",
    "    def project(self, x):\n",
    "        x = self.forward(x)\n",
    "        x = self.fc(x)\n",
    "        \n",
    "        return x"
   ]
  },
  {
   "cell_type": "code",
   "execution_count": 10,
   "id": "df1b5693",
   "metadata": {},
   "outputs": [],
   "source": [
    "class DataAugment(nn.Module):\n",
    "    def __init__(self, x_dim, y_dim, pad_size, rng, brightness_clip=0.2):\n",
    "        super().__init__()\n",
    "\n",
    "        self.rng = rng\n",
    "        self.clip = brightness_clip\n",
    "        \n",
    "        self.random_shift = nn.Sequential(\n",
    "            nn.ReplicationPad2d(pad_size),\n",
    "            K.augmentation.RandomCrop(size=(x_dim, y_dim))\n",
    "        )\n",
    "    \n",
    "    @T.no_grad()\n",
    "    def random_brightness(self, x):\n",
    "        brightness_change = self.rng.uniform(-self.clip, self.clip)\n",
    "        x = K.enhance.adjust_brightness(x, brightness_change)\n",
    "        \n",
    "        return x\n",
    "        \n",
    "    @T.no_grad()\n",
    "    def forward(self, x):\n",
    "        x = self.random_brightness(x)\n",
    "        x = self.random_shift(x)\n",
    "        \n",
    "        return x"
   ]
  },
  {
   "cell_type": "code",
   "execution_count": 11,
   "id": "325dcdda",
   "metadata": {},
   "outputs": [],
   "source": [
    "def prep_states(states, cutoff=False):\n",
    "    if cutoff:\n",
    "        states = states[:256]\n",
    "    states = T.stack(states)\n",
    "    states = dm(states)\n",
    "    states = cl(states)\n",
    "    \n",
    "    return states"
   ]
  },
  {
   "cell_type": "code",
   "execution_count": 12,
   "id": "347191bc",
   "metadata": {},
   "outputs": [],
   "source": [
    "class ParticleReward():\n",
    "    #TODO test original implementation\n",
    "    def __init__(self, top_k=16):\n",
    "        self.mean = 0\n",
    "        self.samples_done = 0\n",
    "        self.c = 1\n",
    "        self.top_k = top_k\n",
    "        \n",
    "    def calculate_reward(self, states, normalize=True):\n",
    "        particle_volumes = T.norm(states.unsqueeze(1) - states.unsqueeze(0), dim=-1) # hypersphere volume\n",
    "        \n",
    "        \n",
    "        top_k_rewards, _ = particle_volumes.topk(self.top_k, sorted=True, largest=False, dim=1)\n",
    "        \n",
    "        #TODO test normalization\n",
    "        self.update_mean_estimate(top_k_rewards.reshape(-1, 1))\n",
    "        \n",
    "        if normalize:\n",
    "            top_k_rewards /= self.mean\n",
    "            \n",
    "        top_k_rewards = top_k_rewards.mean(dim=1)\n",
    "        particle_rewards = T.log(self.c + top_k_rewards)\n",
    "\n",
    "        return particle_rewards\n",
    "        \n",
    "    def update_mean_estimate(self, x):\n",
    "        batch_size = x.size(0)\n",
    "        self.samples_done += batch_size\n",
    "        difference = x.mean(dim=0) - self.mean\n",
    "        self.mean += difference * batch_size / self.samples_done"
   ]
  },
  {
   "cell_type": "code",
   "execution_count": 15,
   "id": "15af2ce6",
   "metadata": {},
   "outputs": [],
   "source": [
    "env = create_env()\n",
    "dm = DataAugment(X_DIM, Y_DIM, PAD_SIZE, rng)\n",
    "cl = ContrastiveLearner(FRAMES_TO_STACK)\n",
    "\n",
    "states = run_episode(env)\n",
    "states = prep_states(states, cutoff=True)"
   ]
  },
  {
   "cell_type": "code",
   "execution_count": null,
   "id": "3614b1bc",
   "metadata": {},
   "outputs": [],
   "source": [
    "reward_function = ParticleReward()"
   ]
  },
  {
   "cell_type": "code",
   "execution_count": null,
   "id": "720e0b87",
   "metadata": {},
   "outputs": [],
   "source": [
    "reward_function.calculate_reward(states).shape"
   ]
  },
  {
   "cell_type": "code",
   "execution_count": null,
   "id": "9364d508",
   "metadata": {},
   "outputs": [],
   "source": []
  }
 ],
 "metadata": {
  "kernelspec": {
   "display_name": "Python 3 (ipykernel)",
   "language": "python",
   "name": "python3"
  },
  "language_info": {
   "codemirror_mode": {
    "name": "ipython",
    "version": 3
   },
   "file_extension": ".py",
   "mimetype": "text/x-python",
   "name": "python",
   "nbconvert_exporter": "python",
   "pygments_lexer": "ipython3",
   "version": "3.8.8"
  }
 },
 "nbformat": 4,
 "nbformat_minor": 5
}
