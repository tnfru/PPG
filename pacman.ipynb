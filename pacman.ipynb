{
 "cells": [
  {
   "cell_type": "code",
   "execution_count": 1,
   "id": "ba87a1bb",
   "metadata": {},
   "outputs": [
    {
     "name": "stderr",
     "output_type": "stream",
     "text": [
      "/home/lars/code/ba_env/lib/python3.8/site-packages/supersuit/__init__.py:20: UserWarning: You're using SuperSuit 3.0, released 7/7/21. The entire codebase has been rewritten or refactored as part of this release. While we've tested it thoroughly, please ensure everything you're doing still works properly and report any issues at https://github.com/PettingZoo-Team/SuperSuit. This warning will be removed 2 months after release.\n",
      "  warnings.warn(\"You're using SuperSuit 3.0, released 7/7/21. The entire codebase has been rewritten or refactored as part of this release. While we've tested it thoroughly, please ensure everything you're doing still works properly and report any issues at https://github.com/PettingZoo-Team/SuperSuit. This warning will be removed 2 months after release.\")\n"
     ]
    }
   ],
   "source": [
    "import gym\n",
    "import ale_py # necessary for gym enviornment creation\n",
    "import time\n",
    "import torch as T\n",
    "import torch.nn as nn\n",
    "from supersuit import frame_stack_v1, color_reduction_v0\n",
    "from supersuit import frame_skip_v0, max_observation_v0, dtype_v0, resize_v0, clip_reward_v0\n",
    "from torchvision import transforms\n",
    "from einops import rearrange\n",
    "import matplotlib.pyplot as plt\n",
    "import torch.nn.functional as F\n",
    "import kornia as K\n",
    "import numpy as np"
   ]
  },
  {
   "cell_type": "code",
   "execution_count": 9,
   "id": "fd89fcb8",
   "metadata": {},
   "outputs": [],
   "source": [
    "FRAMES_TO_STACK = 4\n",
    "FRAMES_TO_SKIP = 4\n",
    "MAX_OVER_OBS = 4\n",
    "\n",
    "X_DIM = 84\n",
    "Y_DIM = 84\n",
    "\n",
    "\n",
    "# NUM_ACTIONS = gym.spaces.utils.flatdim(env.action_space)"
   ]
  },
  {
   "cell_type": "code",
   "execution_count": 3,
   "id": "3e7a5825",
   "metadata": {},
   "outputs": [],
   "source": [
    "def crop_bottom(x):\n",
    "    return x[:,:,:172,:]"
   ]
  },
  {
   "cell_type": "code",
   "execution_count": 4,
   "id": "289e37df",
   "metadata": {},
   "outputs": [],
   "source": [
    "def preprocess(img):\n",
    "    img = T.from_numpy(img) / 255\n",
    "    \n",
    "    if len(img.shape) == 3: # if no fourth dim, batch size is missing\n",
    "        img = img.unsqueeze(0)\n",
    "\n",
    "    img = rearrange(img, 'b h w c -> b c h w')\n",
    "    return img"
   ]
  },
  {
   "cell_type": "code",
   "execution_count": 5,
   "id": "3ad0c8cf",
   "metadata": {},
   "outputs": [],
   "source": [
    "def plot_state(state, big=False):\n",
    "    fig = plt.figure(figsize=(24,12))\n",
    "    if big:\n",
    "        plt.imshow(state[0][0], cmap='gray');\n",
    "        return\n",
    "    \n",
    "    for i in range(state.shape[1]):\n",
    "        fig.add_subplot(1, FRAMES_TO_STACK, i + 1)\n",
    "        plt.imshow(state[0][i], cmap='gray');"
   ]
  },
  {
   "cell_type": "code",
   "execution_count": 89,
   "id": "521e7047",
   "metadata": {
    "scrolled": true
   },
   "outputs": [],
   "source": [
    "def create_env(name='MsPacman', render=None):\n",
    "    env = gym.make('ALE/' + name + '-v5',\n",
    "                    obs_type='grayscale',             # ram | rgb | grayscale\n",
    "                 #   frame_skip=5,                    # frame skip. doesn't work\n",
    "                    mode=0,                           # game mode, see Machado et al. 2018\n",
    "                    difficulty=0,                     # game difficulty, see Machado et al. 2018\n",
    "                    repeat_action_probability=0.25,   # Sticky action probability\n",
    "                    full_action_space=True,           # Use all actions\n",
    "                    render_mode=render                # None | human | rgb_array\n",
    "    )\n",
    "\n",
    "    env = clip_reward_v0(env, lower_bound=-1, upper_bound=1)\n",
    "    env = resize_v0(env, X_DIM, Y_DIM, linear_interp=True)\n",
    "    env = frame_stack_v1(env, FRAMES_TO_STACK)\n",
    "    env = frame_skip_v0(env, FRAMES_TO_SKIP)\n",
    "    \n",
    "    return env"
   ]
  },
  {
   "cell_type": "code",
   "execution_count": 90,
   "id": "9041e5e4",
   "metadata": {},
   "outputs": [],
   "source": [
    "def run_episode(env, early_break=True):\n",
    "    done = False\n",
    "    s = env.reset()\n",
    "    i = 0\n",
    "    rewards = []\n",
    "\n",
    "    while not done:\n",
    "        action = env.action_space.sample()\n",
    "        s, r, done, _ = env.step(action)\n",
    "\n",
    "        rewards.append(r)\n",
    "        \n",
    "        i += 1\n",
    "        if early_break and i == 20:\n",
    "            env.close()            \n",
    "            return s\n",
    "    \n",
    "    env.close()"
   ]
  },
  {
   "cell_type": "code",
   "execution_count": 91,
   "id": "e59a0f33",
   "metadata": {},
   "outputs": [],
   "source": [
    "env = create_env()"
   ]
  },
  {
   "cell_type": "code",
   "execution_count": 94,
   "id": "be5c75c2",
   "metadata": {},
   "outputs": [],
   "source": [
    "s = run_episode(env)\n",
    "s = preprocess(s)"
   ]
  },
  {
   "cell_type": "code",
   "execution_count": 96,
   "id": "f80b5baa",
   "metadata": {},
   "outputs": [
    {
     "data": {
      "image/png": "[encoded data removed]",
      "text/plain": [
       "<Figure size 1728x864 with 4 Axes>"
      ]
     },
     "metadata": {
      "needs_background": "light"
     },
     "output_type": "display_data"
    }
   ],
   "source": [
    "plot_state(s, big=False) # Lin Int"
   ]
  },
  {
   "cell_type": "code",
   "execution_count": 20,
   "id": "9d220259",
   "metadata": {},
   "outputs": [],
   "source": [
    "class ContrastiveLearner(nn.Module):\n",
    "    def __init__(self, num_actions, frame_stack, resnet_dim=2048, project_dim=2048):\n",
    "        super(ContrastiveLearner, self).__init__()\n",
    "        \n",
    "        self.encoder = models.resnet50(pretrained=False, num_classes=resnet_dim)\n",
    "        # self.encoder.conv1 = nn.Conv2d(frame_stack, 64, (7, 7), (2, 2), (3, 3), bias=False)\n",
    "        self.layer_norm = nn.LayerNorm(resnet_dim)\n",
    "        \n",
    "        self.project_head = nn.Sequential(\n",
    "            nn.Linear(resnet_dim, 15),\n",
    "            nn.ReLU(),\n",
    "            nn.Linear(15, 15),\n",
    "            nn.ReLU(),\n",
    "            nn.Linear(15, 15),\n",
    "            nn.ReLU(),\n",
    "            nn.Linear(15, project_dim)\n",
    "        )\n",
    "        \n",
    "    def forward(self, x):\n",
    "        x = self.encoder(x)\n",
    "        x = self.layer_norm(x)\n",
    "        x = T.tanh(x)\n",
    "        \n",
    "        return x\n",
    "    \n",
    "    def encode(self, x):\n",
    "        return self.forward(x)\n",
    "    \n",
    "    def project(self, x):\n",
    "        x = self.forward(x)\n",
    "        x = self.project_head(x)\n",
    "        \n",
    "        return x"
   ]
  },
  {
   "cell_type": "code",
   "execution_count": 73,
   "id": "df1b5693",
   "metadata": {},
   "outputs": [],
   "source": [
    "class DataAugment(nn.Module):\n",
    "    def __init__(self):\n",
    "        super().__init__()\n",
    "\n",
    "        #self.jitter = K.augmentation.ColorJitter(brightness=0.5, contrast=0.5, saturation=0.5, hue=0)\n",
    "        \n",
    "        # TODO change to rotation\n",
    "        self.flip = nn.Sequential(\n",
    "            K.augmentation.RandomHorizontalFlip(p=0.5),\n",
    "            K.augmentation.RandomVerticalFlip(p=0.5)\n",
    "        )\n",
    "    \n",
    "    @T.no_grad()\n",
    "    def forward(self, x):\n",
    "        #x = self.jitter(x)\n",
    "        x = self.flip(x)\n",
    "        \n",
    "        return x"
   ]
  },
  {
   "cell_type": "code",
   "execution_count": 74,
   "id": "aafa39d6",
   "metadata": {},
   "outputs": [],
   "source": [
    "dm = DataAugment()"
   ]
  },
  {
   "cell_type": "code",
   "execution_count": 21,
   "id": "15af2ce6",
   "metadata": {},
   "outputs": [
    {
     "ename": "NameError",
     "evalue": "name 'dm' is not defined",
     "output_type": "error",
     "traceback": [
      "\u001b[0;31m---------------------------------------------------------------------------\u001b[0m",
      "\u001b[0;31mNameError\u001b[0m                                 Traceback (most recent call last)",
      "\u001b[0;32m/tmp/ipykernel_132027/1725001168.py\u001b[0m in \u001b[0;36m<module>\u001b[0;34m\u001b[0m\n\u001b[0;32m----> 1\u001b[0;31m \u001b[0mplot_state\u001b[0m\u001b[0;34m(\u001b[0m\u001b[0mdm\u001b[0m\u001b[0;34m(\u001b[0m\u001b[0ms\u001b[0m\u001b[0;34m)\u001b[0m\u001b[0;34m)\u001b[0m\u001b[0;34m\u001b[0m\u001b[0;34m\u001b[0m\u001b[0m\n\u001b[0m",
      "\u001b[0;31mNameError\u001b[0m: name 'dm' is not defined"
     ]
    }
   ],
   "source": [
    "plot_state(dm(s))"
   ]
  },
  {
   "cell_type": "code",
   "execution_count": null,
   "id": "7cd9f73c",
   "metadata": {},
   "outputs": [],
   "source": []
  }
 ],
 "metadata": {
  "kernelspec": {
   "display_name": "Python 3 (ipykernel)",
   "language": "python",
   "name": "python3"
  },
  "language_info": {
   "codemirror_mode": {
    "name": "ipython",
    "version": 3
   },
   "file_extension": ".py",
   "mimetype": "text/x-python",
   "name": "python",
   "nbconvert_exporter": "python",
   "pygments_lexer": "ipython3",
   "version": "3.8.8"
  }
 },
 "nbformat": 4,
 "nbformat_minor": 5
}
