{
 "cells": [
  {
   "cell_type": "code",
   "execution_count": 167,
   "id": "ba87a1bb",
   "metadata": {},
   "outputs": [],
   "source": [
    "import gym\n",
    "import time\n",
    "import torch as T\n",
    "from supersuit import frame_stack_v1, color_reduction_v0, frame_skip_v0, max_observation_v0\n",
    "import torchvision.models as models\n",
    "from torchvision import transforms\n",
    "from einops import rearrange\n",
    "import matplotlib.pyplot as plt"
   ]
  },
  {
   "cell_type": "code",
   "execution_count": 150,
   "id": "b0062f7d",
   "metadata": {},
   "outputs": [],
   "source": [
    "def crop_bottom(x):\n",
    "    return x[:,:,:172,:]"
   ]
  },
  {
   "cell_type": "code",
   "execution_count": 151,
   "id": "a81f9da5",
   "metadata": {},
   "outputs": [],
   "source": [
    "def preprocess(img):\n",
    "    img = T.from_numpy(img).unsqueeze(0).float()\n",
    "    img = rearrange(img, 'b h w c -> b c h w')\n",
    "    img = crop_bottom(img)\n",
    "    \n",
    "    return img"
   ]
  },
  {
   "cell_type": "code",
   "execution_count": 152,
   "id": "3720bd3c",
   "metadata": {},
   "outputs": [],
   "source": [
    "def plot_state(state):\n",
    "    fig = plt.figure(figsize=(12,6))\n",
    "    fig.add_subplot(1, 2, 1)\n",
    "    plt.imshow(state[0][0], cmap='gray');\n",
    "    fig.add_subplot(1, 2, 2)\n",
    "    plt.imshow(state[0][1], cmap='gray');\n",
    "    plt.show()"
   ]
  },
  {
   "cell_type": "code",
   "execution_count": 153,
   "id": "3e7aad50",
   "metadata": {},
   "outputs": [],
   "source": [
    "FRAMES_TO_STACK = 2\n",
    "FRAMES_TO_SKIP = 5"
   ]
  },
  {
   "cell_type": "code",
   "execution_count": 176,
   "id": "521e7047",
   "metadata": {},
   "outputs": [],
   "source": [
    "env = gym.make('MsPacman-v4')\n",
    "env = color_reduction_v0(env, 'full')\n",
    "env = max_observation_v0(env, 4)\n",
    "env = frame_stack_v1(frame_skip_v0(env, FRAMES_TO_SKIP), FRAMES_TO_STACK)\n",
    "\n",
    "#env = gym.make('MsPacmanNoFrameskip-v4') #v4 means action_repeat prob = 0\n",
    "#env = gym.wrappers.atari_preprocessing.AtariPreprocessing(env, frame_skip=FRAMES_TO_SKIP, screen_size=200, noop_max=0)\n",
    "#env = frame_stack_v1(env, FRAMES_TO_STACK)\n",
    "\n",
    "NUM_ACTIONS = gym.spaces.utils.flatdim(env.action_space)"
   ]
  },
  {
   "cell_type": "code",
   "execution_count": 177,
   "id": "60a7abab",
   "metadata": {},
   "outputs": [],
   "source": [
    "done = False\n",
    "s = env.reset()\n",
    "i = 0\n",
    "rewards = []\n",
    "render = False\n",
    "\n",
    "while not done:\n",
    "    if render:\n",
    "        env.render()\n",
    "        time.sleep(1/60)\n",
    "    action = env.action_space.sample()\n",
    "    s_, r, done, _ = env.step(action)\n",
    "\n",
    "    i += 1\n",
    "    rewards.append(r)\n",
    "    if i == 100: break\n",
    "    \n",
    "env.close()"
   ]
  },
  {
   "cell_type": "code",
   "execution_count": 178,
   "id": "3acf394b",
   "metadata": {},
   "outputs": [],
   "source": [
    "s = preprocess(s)"
   ]
  },
  {
   "cell_type": "code",
   "execution_count": 179,
   "id": "066aec30",
   "metadata": {},
   "outputs": [
    {
     "data": {
      "image/png": "[encoded data removed]",
      "text/plain": [
       "<Figure size 864x432 with 2 Axes>"
      ]
     },
     "metadata": {
      "needs_background": "light"
     },
     "output_type": "display_data"
    }
   ],
   "source": [
    "plot_state(s)"
   ]
  },
  {
   "cell_type": "code",
   "execution_count": 161,
   "id": "adb02806",
   "metadata": {},
   "outputs": [
    {
     "data": {
      "text/plain": [
       "tensor([[0.0656, 0.1659, 0.0956, 0.0805, 0.0781, 0.0637, 0.2724, 0.0523, 0.1260]],\n",
       "       grad_fn=<SoftmaxBackward>)"
      ]
     },
     "execution_count": 161,
     "metadata": {},
     "output_type": "execute_result"
    }
   ],
   "source": [
    "T.nn.functional.softmax(resnet(s), -1)"
   ]
  },
  {
   "cell_type": "code",
   "execution_count": 164,
   "id": "6094373e",
   "metadata": {},
   "outputs": [],
   "source": [
    "resnet = models.resnet50()\n",
    "resnet.conv1 = T.nn.Conv2d(FRAMES_TO_STACK, 64, (7, 7), (2, 2), (3, 3), bias=False)\n",
    "resnet.fc = T.nn.Linear(2048, NUM_ACTIONS)"
   ]
  },
  {
   "cell_type": "code",
   "execution_count": null,
   "id": "a0307b19",
   "metadata": {},
   "outputs": [],
   "source": []
  }
 ],
 "metadata": {
  "kernelspec": {
   "display_name": "Python 3 (ipykernel)",
   "language": "python",
   "name": "python3"
  },
  "language_info": {
   "codemirror_mode": {
    "name": "ipython",
    "version": 3
   },
   "file_extension": ".py",
   "mimetype": "text/x-python",
   "name": "python",
   "nbconvert_exporter": "python",
   "pygments_lexer": "ipython3",
   "version": "3.8.8"
  }
 },
 "nbformat": 4,
 "nbformat_minor": 5
}
