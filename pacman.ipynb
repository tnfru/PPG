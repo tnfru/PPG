{
 "cells": [
  {
   "cell_type": "code",
   "execution_count": 83,
   "id": "ba87a1bb",
   "metadata": {},
   "outputs": [],
   "source": [
    "import gym\n",
    "import time\n",
    "import torch as T\n",
    "import torch.nn as nn\n",
    "from supersuit import frame_stack_v1, color_reduction_v0\n",
    "from supersuit import frame_skip_v0, max_observation_v0, dtype_v0, resize_v0, clip_reward_v0\n",
    "from torchvision import transforms\n",
    "from einops import rearrange\n",
    "import matplotlib.pyplot as plt\n",
    "import torch.nn.functional as F\n",
    "import kornia as K\n",
    "import numpy as np"
   ]
  },
  {
   "cell_type": "code",
   "execution_count": 84,
   "id": "3e7a5825",
   "metadata": {},
   "outputs": [],
   "source": [
    "def crop_bottom(x):\n",
    "    return x[:,:,:172,:]"
   ]
  },
  {
   "cell_type": "code",
   "execution_count": 85,
   "id": "289e37df",
   "metadata": {},
   "outputs": [],
   "source": [
    "def preprocess(img):\n",
    "    img = T.from_numpy(img).unsqueeze(0) / 255\n",
    "    img = rearrange(img, 'b h w c -> b c h w')\n",
    "    \n",
    "    return img"
   ]
  },
  {
   "cell_type": "code",
   "execution_count": 106,
   "id": "3ad0c8cf",
   "metadata": {},
   "outputs": [],
   "source": [
    "def plot_state(state, big=False):\n",
    "    fig = plt.figure(figsize=(24,12))\n",
    "    if big:\n",
    "        plt.imshow(state[0][0], cmap='gray');\n",
    "        return\n",
    "    \n",
    "    for i in range(state.shape[1]):\n",
    "        fig.add_subplot(1, FRAMES_TO_STACK, i + 1)\n",
    "        plt.imshow(state[0][i], cmap='gray');"
   ]
  },
  {
   "cell_type": "code",
   "execution_count": 90,
   "id": "fd89fcb8",
   "metadata": {},
   "outputs": [],
   "source": [
    "FRAMES_TO_STACK = 4\n",
    "FRAMES_TO_SKIP = 4\n",
    "MAX_OVER_OBS = 4\n",
    "\n",
    "X_DIM = 84\n",
    "Y_DIM = 84"
   ]
  },
  {
   "cell_type": "code",
   "execution_count": 118,
   "id": "521e7047",
   "metadata": {},
   "outputs": [],
   "source": [
    "env = gym.make('MsPacman-v4')\n",
    "env = clip_reward_v0(env, lower_bound=-1, upper_bound=1)\n",
    "env = resize_v0(env, X_DIM, Y_DIM, linear_interp=True)\n",
    "env = color_reduction_v0(env, 'full')\n",
    "#env = color_reduction_v0(env, 'R')\n",
    "#env = max_observation_v0(env, MAX_OVER_OBS)\n",
    "env = frame_stack_v1(env, FRAMES_TO_STACK)\n",
    "env = frame_skip_v0(env, FRAMES_TO_SKIP)\n",
    "env = dtype_v0(env, np.float32)\n",
    "\n",
    "NUM_ACTIONS = gym.spaces.utils.flatdim(env.action_space)"
   ]
  },
  {
   "cell_type": "code",
   "execution_count": 119,
   "id": "9041e5e4",
   "metadata": {},
   "outputs": [],
   "source": [
    "done = False\n",
    "s = env.reset()\n",
    "i = 0\n",
    "rewards = []\n",
    "render = False\n",
    "\n",
    "while not done:\n",
    "    if render:\n",
    "        env.render()\n",
    "        time.sleep(1/60)\n",
    "    action = env.action_space.sample()\n",
    "    s, r, done, _ = env.step(action)\n",
    "\n",
    "    i += 1\n",
    "    rewards.append(r)\n",
    "    if i == 100: break\n",
    "    \n",
    "env.close()"
   ]
  },
  {
   "cell_type": "code",
   "execution_count": 120,
   "id": "be5c75c2",
   "metadata": {},
   "outputs": [],
   "source": [
    "s = preprocess(s)"
   ]
  },
  {
   "cell_type": "code",
   "execution_count": 121,
   "id": "9d220259",
   "metadata": {},
   "outputs": [],
   "source": [
    "class ContrastiveLearner(nn.Module):\n",
    "    def __init__(self, num_actions, frame_stack, resnet_dim=2048, project_dim=2048):\n",
    "        super(ContrastiveLearner, self).__init__()\n",
    "        \n",
    "        self.encoder = models.resnet50(pretrained=False, num_classes=resnet_dim)\n",
    "        # self.encoder.conv1 = nn.Conv2d(frame_stack, 64, (7, 7), (2, 2), (3, 3), bias=False)\n",
    "        self.layer_norm = nn.LayerNorm(resnet_dim)\n",
    "        \n",
    "        self.project_head = nn.Sequential(\n",
    "            nn.Linear(resnet_dim, 15),\n",
    "            nn.ReLU(),\n",
    "            nn.Linear(15, 15),\n",
    "            nn.ReLU(),\n",
    "            nn.Linear(15, 15),\n",
    "            nn.ReLU(),\n",
    "            nn.Linear(15, project_dim)\n",
    "        )\n",
    "        \n",
    "    def forward(self, x):\n",
    "        x = self.encoder(x)\n",
    "        x = self.layer_norm(x)\n",
    "        x = T.tanh(x)\n",
    "        \n",
    "        return x\n",
    "    \n",
    "    def encode(self, x):\n",
    "        return self.forward(x)\n",
    "    \n",
    "    def project(self, x):\n",
    "        x = self.forward(x)\n",
    "        x = self.project_head(x)\n",
    "        \n",
    "        return x"
   ]
  },
  {
   "cell_type": "code",
   "execution_count": 122,
   "id": "df1b5693",
   "metadata": {},
   "outputs": [],
   "source": [
    "class DataAugment(nn.Module):\n",
    "    def __init__(self):\n",
    "        super().__init__()\n",
    "\n",
    "        #self.jitter = K.augmentation.ColorJitter(brightness=0.5, contrast=0.5, saturation=0.5, hue=0)\n",
    "        \n",
    "        # TODO change to rotation\n",
    "        self.flip = nn.Sequential(\n",
    "            K.augmentation.RandomHorizontalFlip(p=0.5),\n",
    "            K.augmentation.RandomVerticalFlip(p=0.5)\n",
    "        )\n",
    "    \n",
    "    @T.no_grad()\n",
    "    def forward(self, x):\n",
    "        #x = self.jitter(x)\n",
    "        x = self.flip(x)\n",
    "        \n",
    "        return x"
   ]
  },
  {
   "cell_type": "code",
   "execution_count": 114,
   "id": "aafa39d6",
   "metadata": {},
   "outputs": [],
   "source": [
    "dm = DataAugment()"
   ]
  },
  {
   "cell_type": "code",
   "execution_count": 115,
   "id": "15af2ce6",
   "metadata": {},
   "outputs": [
    {
     "data": {
      "image/png": "[encoded data removed]",
      "text/plain": [
       "<Figure size 1728x864 with 4 Axes>"
      ]
     },
     "metadata": {
      "needs_background": "light"
     },
     "output_type": "display_data"
    }
   ],
   "source": [
    "plot_state(dm(s))"
   ]
  },
  {
   "cell_type": "code",
   "execution_count": null,
   "id": "31836180",
   "metadata": {},
   "outputs": [],
   "source": []
  }
 ],
 "metadata": {
  "kernelspec": {
   "display_name": "Python 3 (ipykernel)",
   "language": "python",
   "name": "python3"
  },
  "language_info": {
   "codemirror_mode": {
    "name": "ipython",
    "version": 3
   },
   "file_extension": ".py",
   "mimetype": "text/x-python",
   "name": "python",
   "nbconvert_exporter": "python",
   "pygments_lexer": "ipython3",
   "version": "3.8.8"
  }
 },
 "nbformat": 4,
 "nbformat_minor": 5
}
